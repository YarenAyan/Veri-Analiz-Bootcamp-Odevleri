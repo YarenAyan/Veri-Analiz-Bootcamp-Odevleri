{
 "cells": [
  {
   "cell_type": "markdown",
   "metadata": {},
   "source": [
    "### HackerRank Challenge 12: Lists\n",
    "🔗 [HackerRank - Lists Challenge](https://www.hackerrank.com/challenges/python-lists/problem)\n",
    "\n",
    "*Problem Tanımı:*\n",
    "Bir boş liste (`list = []`) başlatılır ve kullanıcıdan kaç komut girileceği bilgisi alınır. Daha sonra her bir komut satırı aşağıdaki işlemlerden birini içerir ve bu işlemler sırayla liste üzerinde uygulanır:\n",
    "\n",
    "- `insert i e`: Belirtilen `i` konumuna `e` tamsayısını yerleştirir.\n",
    "- `print`: Listenin o anki halini yazdırır.\n",
    "- `remove e`: `e` değerinin listede ilk görüldüğü yeri siler.\n",
    "- `append e`: `e` değerini listenin sonuna ekler.\n",
    "- `sort`: Listeyi küçükten büyüğe sıralar.\n",
    "- `pop`: Listenin son elemanını siler.\n",
    "- `reverse`: Listeyi tersine çevirir.\n",
    "\n",
    "*Amaç:*\n",
    "- Kullanıcıdan gelen komutları sırayla uygulamak  \n",
    "- `print` komutu verildiğinde, listenin o anki halini ekrana yazdırmak\n"
   ]
  },
  {
   "cell_type": "code",
   "execution_count": 2,
   "metadata": {},
   "outputs": [
    {
     "name": "stdout",
     "output_type": "stream",
     "text": [
      "[6, 5, 10]\n",
      "[1, 5, 9, 10]\n",
      "[9, 5, 1]\n"
     ]
    }
   ],
   "source": [
    "\n",
    "input_data = [\n",
    "    \"insert 0 5\",\n",
    "    \"insert 1 10\",\n",
    "    \"insert 0 6\",\n",
    "    \"print\",\n",
    "    \"remove 6\",\n",
    "    \"append 9\",\n",
    "    \"append 1\",\n",
    "    \"sort\",\n",
    "    \"print\",\n",
    "    \"pop\",\n",
    "    \"reverse\",\n",
    "    \"print\"\n",
    "]\n",
    "\n",
    "N = len(input_data)\n",
    "my_list = []\n",
    "\n",
    "for i in range(N):\n",
    "    command_line = input_data[i].split()\n",
    "    command = command_line[0]\n",
    "\n",
    "    if command == \"insert\":\n",
    "        index = int(command_line[1])\n",
    "        value = int(command_line[2])\n",
    "        my_list.insert(index, value)\n",
    "    elif command == \"print\":\n",
    "        print(my_list)\n",
    "    elif command == \"remove\":\n",
    "        value = int(command_line[1])\n",
    "        my_list.remove(value)\n",
    "    elif command == \"append\":\n",
    "        value = int(command_line[1])\n",
    "        my_list.append(value)\n",
    "    elif command == \"sort\":\n",
    "        my_list.sort()\n",
    "    elif command == \"pop\":\n",
    "        my_list.pop()\n",
    "    elif command == \"reverse\":\n",
    "        my_list.reverse()"
   ]
  }
 ],
 "metadata": {
  "kernelspec": {
   "display_name": "base",
   "language": "python",
   "name": "python3"
  },
  "language_info": {
   "codemirror_mode": {
    "name": "ipython",
    "version": 3
   },
   "file_extension": ".py",
   "mimetype": "text/x-python",
   "name": "python",
   "nbconvert_exporter": "python",
   "pygments_lexer": "ipython3",
   "version": "3.8.8"
  }
 },
 "nbformat": 4,
 "nbformat_minor": 2
}
