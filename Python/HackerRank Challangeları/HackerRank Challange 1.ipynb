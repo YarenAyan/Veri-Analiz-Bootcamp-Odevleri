{
 "cells": [
  {
   "cell_type": "markdown",
   "metadata": {},
   "source": [
    "### HackerRank Challenge 1: defaultdict Tutorial\n",
    "\n",
    "🔗 [HackerRank - defaultdict Tutorial Challenge](https://www.hackerrank.com/challenges/defaultdict-tutorial/problem)\n",
    "\n",
    "Bu ödevde, Python dilindeki defaultdict yapısını kullanarak kelime grupları arasındaki eşleşmeleri bulmamız beklenmektedir. \n",
    "\n",
    "*Problem Tanımı:*  \n",
    "Grup A, tekrar edebilen kelimeler içerir. Grup B ise sorgulama yapılacak kelimeleri içerir. Her B kelimesi için, A grubunda geçtiği 1-indeksli pozisyonlar yazdırılmalıdır. Eğer hiç geçmiyorsa -1 yazılmalıdır.\n",
    "\n",
    "*Amaç:*  \n",
    "- collections.defaultdict(list) ile A grubundaki kelimeleri pozisyonlarına göre gruplayarak saklamak. \n",
    "- B grubundaki her kelime için eşleşen pozisyonları yazdırmak.\n",
    "\n",
    "---"
   ]
  },
  {
   "cell_type": "code",
   "execution_count": 1,
   "metadata": {},
   "outputs": [
    {
     "name": "stdout",
     "output_type": "stream",
     "text": [
      "1 2 4\n",
      "3 5\n"
     ]
    }
   ],
   "source": [
    "from collections import defaultdict\n",
    "\n",
    "def test_case():\n",
    "    n, m = 5, 2 \n",
    "    inputs = [\n",
    "        \"a\",\n",
    "        \"a\",\n",
    "        \"b\",\n",
    "        \"a\",\n",
    "        \"b\"\n",
    "    ]\n",
    "    search_words = [\n",
    "        \"a\",\n",
    "        \"b\"\n",
    "    ]\n",
    "    \n",
    "    group_a = defaultdict(list)\n",
    "    \n",
    "    for i in range(1, n + 1):\n",
    "        word = inputs[i - 1]\n",
    "        group_a[word].append(i)\n",
    "\n",
    "    for word in search_words:\n",
    "        if word in group_a:\n",
    "            print(' '.join(map(str, group_a[word])))\n",
    "        else:\n",
    "            print(-1)\n",
    "\n",
    "test_case()"
   ]
  }
 ],
 "metadata": {
  "kernelspec": {
   "display_name": "base",
   "language": "python",
   "name": "python3"
  },
  "language_info": {
   "codemirror_mode": {
    "name": "ipython",
    "version": 3
   },
   "file_extension": ".py",
   "mimetype": "text/x-python",
   "name": "python",
   "nbconvert_exporter": "python",
   "pygments_lexer": "ipython3",
   "version": "3.8.8"
  }
 },
 "nbformat": 4,
 "nbformat_minor": 2
}
