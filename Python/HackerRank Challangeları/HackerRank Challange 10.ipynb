{
 "cells": [
  {
   "cell_type": "markdown",
   "metadata": {},
   "source": [
    "### HackerRank Challenge 10: Python If-Else\n",
    "\n",
    "🔗 [HackerRank - Python If-Else](https://www.hackerrank.com/challenges/py-if-else/problem)\n",
    "\n",
    "Bu ödevde, verilen bir tamsayının \"Weird\" (tuhaf) mi yoksa \"Not Weird\" (tuhaf değil) mi olduğunu belirlemek amaçlanmaktadır. Belirli aralıklar ve koşullara göre çıktı verilmesi beklenmektedir.\n",
    "\n",
    "*Problem Tanımı:*\n",
    "- Eğer n tek bir sayı ise, \"Weird\" yazdırılır.  \n",
    "- Eğer n çift sayıysa ve 2 ile 5 (dahil) arasında ise, \"Not Weird\" yazdırılır.  \n",
    "- Eğer n çift sayıysa ve 6 ile 20 (dahil) arasında ise, \"Weird\" yazdırılır.  \n",
    "- Eğer n çift sayıysa ve 20'den büyükse, \"Not Weird\" yazdırılır.  \n",
    "\n",
    "*Amaç:*\n",
    "- Koşullu ifadeler (if-elif-else) ile mantığı kontrol etmek  \n",
    "- Ekrana uygun sonucu yazdırmak  \n"
   ]
  },
  {
   "cell_type": "code",
   "execution_count": 3,
   "metadata": {},
   "outputs": [
    {
     "name": "stdout",
     "output_type": "stream",
     "text": [
      "Weird\n"
     ]
    }
   ],
   "source": [
    "def isweird():\n",
    "    n = 3\n",
    "    if n % 2 == 1:\n",
    "        print(\"Weird\")\n",
    "    elif n % 2 == 0 and 2 <= n <= 5:\n",
    "        print(\"Not Weird\")\n",
    "    elif n % 2 == 0 and 6 <= n <= 20:\n",
    "        print(\"Weird\")\n",
    "    elif n % 2 == 0 and n > 20:\n",
    "        print(\"Not Weird\")\n",
    "\n",
    "isweird()\n"
   ]
  }
 ],
 "metadata": {
  "kernelspec": {
   "display_name": "base",
   "language": "python",
   "name": "python3"
  },
  "language_info": {
   "codemirror_mode": {
    "name": "ipython",
    "version": 3
   },
   "file_extension": ".py",
   "mimetype": "text/x-python",
   "name": "python",
   "nbconvert_exporter": "python",
   "pygments_lexer": "ipython3",
   "version": "3.8.8"
  }
 },
 "nbformat": 4,
 "nbformat_minor": 2
}
