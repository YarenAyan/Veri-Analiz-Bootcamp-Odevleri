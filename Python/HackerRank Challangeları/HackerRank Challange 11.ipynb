{
 "cells": [
  {
   "cell_type": "markdown",
   "metadata": {},
   "source": [
    "### HackerRank Challenge 10: Loops\n",
    "\n",
    "🔗 [HackerRank - Loops Challenge](https://www.hackerrank.com/challenges/python-loops/problem)\n",
    "\n",
    "Bu ödevde, verilen bir tamsayı `n` için, `0`’dan `n-1`’e kadar olan tüm sayıların kareleri ayrı satırlarda yazdırılmaktadır.\n",
    "\n",
    "*Problem Tanımı:*\n",
    "- Kullanıcıdan bir tamsayı `n` alınır.  \n",
    "- `0` ile `n-1` arasındaki tüm sayılar için sayıların karesi hesaplanıp ekrana yazdırılır.\n",
    "\n",
    "*Amaç:*\n",
    "- `input()` ile kullanıcıdan değer almak  \n",
    "- `for` döngüsü ile `0`'dan `n-1`'e kadar iterasyon yapmak  \n",
    "- Her sayı için karesini hesaplayıp yazdırmak"
   ]
  },
  {
   "cell_type": "code",
   "execution_count": 2,
   "metadata": {},
   "outputs": [
    {
     "name": "stdout",
     "output_type": "stream",
     "text": [
      "0\n",
      "1\n",
      "4\n",
      "9\n",
      "16\n"
     ]
    }
   ],
   "source": [
    "def loop(n):\n",
    "    for i in range(n):\n",
    "        print(i*i)\n",
    "\n",
    "loop(5)"
   ]
  }
 ],
 "metadata": {
  "kernelspec": {
   "display_name": "base",
   "language": "python",
   "name": "python3"
  },
  "language_info": {
   "codemirror_mode": {
    "name": "ipython",
    "version": 3
   },
   "file_extension": ".py",
   "mimetype": "text/x-python",
   "name": "python",
   "nbconvert_exporter": "python",
   "pygments_lexer": "ipython3",
   "version": "3.8.8"
  }
 },
 "nbformat": 4,
 "nbformat_minor": 2
}
