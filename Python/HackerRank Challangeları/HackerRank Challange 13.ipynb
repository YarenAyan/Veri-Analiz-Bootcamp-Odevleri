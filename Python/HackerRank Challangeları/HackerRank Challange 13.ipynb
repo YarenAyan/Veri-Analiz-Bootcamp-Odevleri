{
 "cells": [
  {
   "cell_type": "markdown",
   "metadata": {},
   "source": [
    "### HackerRank Challenge 12: Tuples\n",
    "🔗 [HackerRank - Tuple Challenge](https://www.hackerrank.com/challenges/python-tuples/problem)\n",
    "\n",
    "*Problem Tanımı:*\n",
    "Kullanıcıdan önce bir tamsayı `n` alınır. Ardından `n` adet boşlukla ayrılmış tamsayı girilir. Bu sayılar bir `tuple` (demet) olarak oluşturulur ve bu `tuple` nesnesinin `hash()` değeri hesaplanıp ekrana yazdırılır.\n",
    "\n",
    "- `tuple` değiştirilemeyen (immutable) veri tipidir.\n",
    "- `hash()` fonksiyonu, bir nesnenin hash değerini döner; bu değer, örneğin sözlük anahtarı olarak kullanılabilirliği sağlar.\n",
    "\n",
    "*Amaç:*\n",
    "- Kullanıcıdan alınan sayılarla bir `tuple` oluşturmak  \n",
    "- `hash()` fonksiyonu ile bu tuple’ın hash değerini hesaplayıp yazdırmak\n"
   ]
  },
  {
   "cell_type": "code",
   "execution_count": 2,
   "metadata": {},
   "outputs": [
    {
     "name": "stdout",
     "output_type": "stream",
     "text": [
      "-3550055125485641917\n"
     ]
    }
   ],
   "source": [
    "n = 2\n",
    "input_numbers = \"1 2\"\n",
    "\n",
    "\n",
    "integer_list = map(int, input_numbers.split())\n",
    "t = tuple(integer_list)\n",
    "\n",
    "print(hash(t))\n"
   ]
  }
 ],
 "metadata": {
  "kernelspec": {
   "display_name": "base",
   "language": "python",
   "name": "python3"
  },
  "language_info": {
   "codemirror_mode": {
    "name": "ipython",
    "version": 3
   },
   "file_extension": ".py",
   "mimetype": "text/x-python",
   "name": "python",
   "nbconvert_exporter": "python",
   "pygments_lexer": "ipython3",
   "version": "3.8.8"
  }
 },
 "nbformat": 4,
 "nbformat_minor": 2
}
