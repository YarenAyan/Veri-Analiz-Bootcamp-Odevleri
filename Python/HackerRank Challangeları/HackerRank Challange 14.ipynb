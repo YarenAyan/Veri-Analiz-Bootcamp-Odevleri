{
 "cells": [
  {
   "cell_type": "markdown",
   "metadata": {},
   "source": [
    "### HackerRank Challenge 14: Set Add - Distinct Country Stamps\n",
    "🔗 [HackerRank - Set.add() Challange](https://www.hackerrank.com/challenges/py-set-add/problem)\n",
    "\n",
    "*Problem Tanımı:*\n",
    "Rupal adlı bir arkadaşınızın büyük bir pul koleksiyonu vardır. Bu koleksiyonda, farklı ülkelerden gelen pullar bulunmaktadır. Rupal, koleksiyonundaki farklı ülke pullarının sayısını öğrenmek istemektedir. \n",
    "\n",
    "- İlk satırda bir tamsayı `n` verilir; bu, toplam pul sayısıdır.\n",
    "- Sonraki `n` satırda, her satırda bir ülke ismi bulunur.\n",
    "- Aynı ülke birden fazla kez geçebilir. Ancak, yalnızca farklı (benzersiz) ülke isimleri sayılmalıdır.\n",
    "\n",
    "*Amaç:*\n",
    "- `set` veri yapısını kullanarak tüm ülke isimlerini saklamak  \n",
    "- `add()` metoduyla her yeni ülkeyi sete eklemek  \n",
    "- En sonunda, set'in uzunluğunu (`len(set)`) yazdırarak kaç farklı ülke olduğunu bulmak\n"
   ]
  },
  {
   "cell_type": "code",
   "execution_count": 1,
   "metadata": {},
   "outputs": [
    {
     "name": "stdout",
     "output_type": "stream",
     "text": [
      "5\n"
     ]
    }
   ],
   "source": [
    "if __name__ == '__main__':\n",
    "    n = 7  \n",
    "    \n",
    "    example_inputs = [\n",
    "        \"UK\",\n",
    "        \"China\",\n",
    "        \"USA\",\n",
    "        \"France\",\n",
    "        \"New Zealand\",\n",
    "        \"UK\",\n",
    "        \"France\"\n",
    "    ]\n",
    "    \n",
    "    countries = set()\n",
    "    for i in range(n):\n",
    "        country = example_inputs[i]  \n",
    "        countries.add(country)\n",
    "    print(len(countries))\n"
   ]
  }
 ],
 "metadata": {
  "kernelspec": {
   "display_name": "base",
   "language": "python",
   "name": "python3"
  },
  "language_info": {
   "codemirror_mode": {
    "name": "ipython",
    "version": 3
   },
   "file_extension": ".py",
   "mimetype": "text/x-python",
   "name": "python",
   "nbconvert_exporter": "python",
   "pygments_lexer": "ipython3",
   "version": "3.8.8"
  }
 },
 "nbformat": 4,
 "nbformat_minor": 2
}
