{
 "cells": [
  {
   "cell_type": "markdown",
   "metadata": {},
   "source": [
    "### HackerRank Challenge 14: String Split and Join\n",
    "🔗 [HackerRank - String Split and Join Challange)](https://www.hackerrank.com/challenges/python-string-split-and-join/problem)\n",
    "\n",
    "*Problem Tanımı:*\n",
    "Python'da bir metin (`string`), belirli bir ayırıcıya göre parçalara ayrılabilir (`split`), sonra da bu parçalar farklı bir ayırıcı kullanılarak tekrar birleştirilebilir (`join`).\n",
    "\n",
    "- Verilen bir metni önce boşluk karakterine göre parçalara ayır (split).\n",
    "- Daha sonra bu parçaları aralarında tire (`-`) olacak şekilde tekrar birleştir (join).\n",
    "\n",
    "*Amaç:*\n",
    "- Bir metni boşluklardan ayırarak liste haline getirmek  \n",
    "- Liste elemanlarını tire işareti ile birleştirip sonucu döndürmek\n"
   ]
  },
  {
   "cell_type": "code",
   "execution_count": 1,
   "metadata": {},
   "outputs": [
    {
     "name": "stdout",
     "output_type": "stream",
     "text": [
      "this-is-a-string\n"
     ]
    }
   ],
   "source": [
    "def split_and_join(line):\n",
    "    line = line.split(\" \")\n",
    "    line = \"-\".join(line)\n",
    "    return line\n",
    "\n",
    "if __name__ == '__main__':\n",
    "    line = \"this is a string\"\n",
    "    result = split_and_join(line)\n",
    "\n",
    "    print(result)  \n"
   ]
  }
 ],
 "metadata": {
  "kernelspec": {
   "display_name": "base",
   "language": "python",
   "name": "python3"
  },
  "language_info": {
   "codemirror_mode": {
    "name": "ipython",
    "version": 3
   },
   "file_extension": ".py",
   "mimetype": "text/x-python",
   "name": "python",
   "nbconvert_exporter": "python",
   "pygments_lexer": "ipython3",
   "version": "3.8.8"
  }
 },
 "nbformat": 4,
 "nbformat_minor": 2
}
