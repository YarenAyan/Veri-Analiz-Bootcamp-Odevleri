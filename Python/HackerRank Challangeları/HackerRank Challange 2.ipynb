{
 "cells": [
  {
   "cell_type": "markdown",
   "metadata": {},
   "source": [
    "### HackerRank Challenge 2: List Comprehensions  \n",
    "\n",
    "🔗 [HackerRank - List Comprehensions Challenge](https://www.hackerrank.com/challenges/list-comprehensions/problem)\n",
    "\n",
    "Bu ödevde, Python dilindeki **list comprehension** (liste üreteci) yapısını kullanarak üç boyutlu bir küpün içindeki tüm koordinatları üretmemiz ve bazılarını hariç tutmamız beklenmektedir\n",
    "\n",
    "*Problem Tanımı:*  \n",
    "Verilen dört tam sayıdan ilki `x`, ikincisi `y`, üçüncüsü `z` boyutları belirtirken; dördüncüsü `n` ise hariç tutulacak toplam değeri belirtir.  \n",
    "Amaç, `i + j + k != n` koşulunu sağlayan tüm `[i, j, k]` koordinatlarını listelemektir.\n",
    "\n",
    "*Amaç:* \n",
    "- Python’daki **list comprehension** yapısını kullanarak iç içe döngüler olmadan koordinat listesi oluşturmak.\n",
    "- Belirli bir toplam değere eşit olan koordinatları listeden çıkarmak.\n",
    "\n",
    "---\n"
   ]
  },
  {
   "cell_type": "code",
   "execution_count": 3,
   "metadata": {},
   "outputs": [
    {
     "name": "stdout",
     "output_type": "stream",
     "text": [
      "[[0, 0, 0], [0, 0, 1], [0, 1, 0], [0, 1, 2], [0, 2, 1], [0, 2, 2], [1, 0, 0], [1, 0, 2], [1, 1, 1], [1, 1, 2], [1, 2, 0], [1, 2, 1], [1, 2, 2], [2, 0, 1], [2, 0, 2], [2, 1, 0], [2, 1, 1], [2, 1, 2], [2, 2, 0], [2, 2, 1], [2, 2, 2]]\n"
     ]
    }
   ],
   "source": [
    "def test_case():\n",
    "    x, y, z, n = 2, 2, 2, 2\n",
    "    \n",
    "    result = [[i, j, k] for i in range(x + 1)\n",
    "                        for j in range(y + 1)\n",
    "                        for k in range(z + 1)\n",
    "                        if i + j + k != n]\n",
    "\n",
    "    print(result)\n",
    "    \n",
    "test_case()"
   ]
  }
 ],
 "metadata": {
  "kernelspec": {
   "display_name": "base",
   "language": "python",
   "name": "python3"
  },
  "language_info": {
   "codemirror_mode": {
    "name": "ipython",
    "version": 3
   },
   "file_extension": ".py",
   "mimetype": "text/x-python",
   "name": "python",
   "nbconvert_exporter": "python",
   "pygments_lexer": "ipython3",
   "version": "3.8.8"
  }
 },
 "nbformat": 4,
 "nbformat_minor": 2
}
