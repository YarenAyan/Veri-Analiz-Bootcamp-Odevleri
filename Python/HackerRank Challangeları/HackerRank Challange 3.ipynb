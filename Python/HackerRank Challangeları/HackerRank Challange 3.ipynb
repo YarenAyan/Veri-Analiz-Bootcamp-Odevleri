{
 "cells": [
  {
   "cell_type": "markdown",
   "metadata": {},
   "source": [
    "### HackerRank Challenge 3: Print Function  \n",
    "\n",
    "🔗 [HackerRank - Python Print Function](https://www.hackerrank.com/challenges/python-print/problem)\n",
    "\n",
    "*Problem Tanımı:*  \n",
    " Bu ödevde, kullanıcıdan alınan bir tam sayı `n`'e kadar olan pozitif tam sayıları (1'den `n`'e kadar) **boşluk veya ayraç kullanmadan** tek bir satırda yazdırmamız beklenmektedir.\n",
    "\n",
    "*Amaç:*\n",
    "- Python'da `print()` fonksiyonunu ve döngüleri kullanarak 1'den `n`'e kadar olan sayıları **string metotları kullanmadan** yazdırmak.\n",
    "- Örneğin `n = 3` için çıktı: `123`\n",
    "\n",
    "---"
   ]
  },
  {
   "cell_type": "code",
   "execution_count": 1,
   "metadata": {},
   "outputs": [
    {
     "name": "stdout",
     "output_type": "stream",
     "text": [
      "123"
     ]
    }
   ],
   "source": [
    "def test_case():\n",
    "    n = 3\n",
    "\n",
    "    for i in range(1, n + 1):\n",
    "        print(i, end='')\n",
    "\n",
    "test_case()"
   ]
  }
 ],
 "metadata": {
  "kernelspec": {
   "display_name": "base",
   "language": "python",
   "name": "python3"
  },
  "language_info": {
   "codemirror_mode": {
    "name": "ipython",
    "version": 3
   },
   "file_extension": ".py",
   "mimetype": "text/x-python",
   "name": "python",
   "nbconvert_exporter": "python",
   "pygments_lexer": "ipython3",
   "version": "3.8.8"
  }
 },
 "nbformat": 4,
 "nbformat_minor": 2
}
