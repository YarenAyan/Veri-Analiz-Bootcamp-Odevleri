{
 "cells": [
  {
   "cell_type": "markdown",
   "metadata": {},
   "source": [
    "### HackerRank Challenge 4: Write a Function (Leap Year)\n",
    "\n",
    "🔗 [HackerRank - Write a Function Challenge](https://www.hackerrank.com/challenges/write-a-function/problem)\n",
    "\n",
    "Bu ödevde, verilen bir yılın artık yıl (leap year) olup olmadığını belirlememiz beklenmektedir.\n",
    "\n",
    "*Problem Tanımı:*  \n",
    "Bir yıl:  \n",
    "- 4'e tam bölünüyorsa ve 100'e tam bölünmüyorsa artık yıldır.  \n",
    "- Veya 400'e tam bölünüyorsa yine artık yıldır.  \n",
    "Aksi halde değildir.\n",
    "\n",
    "*Amaç:*  \n",
    "- Yukarıdaki kurallara göre verilen yıl için `True` veya `False` döndüren bir fonksiyon yazmak.\n",
    "\n",
    "---"
   ]
  },
  {
   "cell_type": "code",
   "execution_count": 1,
   "metadata": {},
   "outputs": [
    {
     "name": "stdout",
     "output_type": "stream",
     "text": [
      "1990: False\n",
      "2000: True\n",
      "1900: False\n",
      "2024: True\n",
      "2100: False\n"
     ]
    }
   ],
   "source": [
    "def is_leap(year):\n",
    "    if (year % 4 == 0 and year % 100 != 0) or (year % 400 == 0):\n",
    "        return True\n",
    "    else:\n",
    "        return False\n",
    "\n",
    "def test_case():\n",
    "    test_years = [1990, 2000, 1900, 2024, 2100]\n",
    "    for year in test_years:\n",
    "        print(f\"{year}: {is_leap(year)}\")\n",
    "\n",
    "test_case()"
   ]
  }
 ],
 "metadata": {
  "kernelspec": {
   "display_name": "base",
   "language": "python",
   "name": "python3"
  },
  "language_info": {
   "codemirror_mode": {
    "name": "ipython",
    "version": 3
   },
   "file_extension": ".py",
   "mimetype": "text/x-python",
   "name": "python",
   "nbconvert_exporter": "python",
   "pygments_lexer": "ipython3",
   "version": "3.8.8"
  }
 },
 "nbformat": 4,
 "nbformat_minor": 2
}
