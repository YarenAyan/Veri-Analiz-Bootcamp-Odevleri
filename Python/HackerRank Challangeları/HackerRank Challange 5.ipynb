{
 "cells": [
  {
   "cell_type": "markdown",
   "metadata": {},
   "source": [
    "### HackerRank Challenge 5: Arithmetic Operators\n",
    "\n",
    "🔗 [HackerRank - Arithmetic Operators Challenge](https://www.hackerrank.com/challenges/python-arithmetic-operators/problem)\n",
    "\n",
    "Bu ödevde, kullanıcıdan alınan iki tam sayı ile üç temel aritmetik işlem yapılması istenmektedir.\n",
    "\n",
    "*Problem Tanımı:*  \n",
    "İki tam sayı verildiğinde:\n",
    "- 1. satırda toplamı (`a + b`),\n",
    "- 2. satırda farkı (`a - b`),\n",
    "- 3. satırda çarpımı (`a * b`) yazdırılmalıdır.\n",
    "\n",
    "*Amaç:*  \n",
    "- Temel aritmetik işlemleri gerçekleştirmek ve her sonucu ayrı satıra yazdırmak."
   ]
  },
  {
   "cell_type": "code",
   "execution_count": 7,
   "metadata": {},
   "outputs": [
    {
     "name": "stdout",
     "output_type": "stream",
     "text": [
      "5\n",
      "1\n",
      "6\n"
     ]
    }
   ],
   "source": [
    "def arithmetic_operations(a, b):\n",
    "    print(a + b)\n",
    "    print(a - b)\n",
    "    print(a * b)\n",
    "\n",
    "def test_case():\n",
    "    test_inputs = [(3, 2),]\n",
    "    \n",
    "    for a, b in test_inputs:\n",
    "        arithmetic_operations(a, b)\n",
    "\n",
    "test_case()\n"
   ]
  }
 ],
 "metadata": {
  "kernelspec": {
   "display_name": "base",
   "language": "python",
   "name": "python3"
  },
  "language_info": {
   "codemirror_mode": {
    "name": "ipython",
    "version": 3
   },
   "file_extension": ".py",
   "mimetype": "text/x-python",
   "name": "python",
   "nbconvert_exporter": "python",
   "pygments_lexer": "ipython3",
   "version": "3.8.8"
  }
 },
 "nbformat": 4,
 "nbformat_minor": 2
}
