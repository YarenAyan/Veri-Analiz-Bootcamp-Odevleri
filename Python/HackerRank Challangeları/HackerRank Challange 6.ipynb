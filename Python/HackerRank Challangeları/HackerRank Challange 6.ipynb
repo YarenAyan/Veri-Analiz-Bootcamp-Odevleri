{
 "cells": [
  {
   "cell_type": "markdown",
   "metadata": {},
   "source": [
    "### HackerRank Challenge 6: String Mutations\n",
    "\n",
    "🔗 [HackerRank - Python Mutations Challenge](https://www.hackerrank.com/challenges/python-mutations/problem)\n",
    "\n",
    "Bu ödevde, değiştirilemez (immutable) bir string üzerinde belirli bir konumdaki karakteri değiştirmemiz istenmektedir.\n",
    "\n",
    "*Problem Tanımı:*  \n",
    "Verilen bir string, bir pozisyon ve bir karakter ile:\n",
    "- String’in belirtilen pozisyondaki karakterini verilen karakter ile değiştirmemiz beklenir.\n",
    "- Yeni oluşan string ekrana yazdırılır.\n",
    "\n",
    "*Amaç:*  \n",
    "- String'i değiştirmek için ya `list()` yapısını kullanmak ya da string dilimleme (slice) yöntemiyle yeni bir string oluşturmak.\n"
   ]
  },
  {
   "cell_type": "code",
   "execution_count": 1,
   "metadata": {},
   "outputs": [
    {
     "name": "stdout",
     "output_type": "stream",
     "text": [
      "abrackdabra\n"
     ]
    }
   ],
   "source": [
    "def mutate_string(string, position, character):\n",
    "    string_list = list(string)\n",
    "    string_list[position] = character\n",
    "    return ''.join(string_list)\n",
    "\n",
    "def test_case():\n",
    "    string = \"abracadabra\"\n",
    "    position = 5\n",
    "    character = \"k\"\n",
    "    print(mutate_string(string, position, character))\n",
    "\n",
    "test_case()"
   ]
  }
 ],
 "metadata": {
  "kernelspec": {
   "display_name": "base",
   "language": "python",
   "name": "python3"
  },
  "language_info": {
   "codemirror_mode": {
    "name": "ipython",
    "version": 3
   },
   "file_extension": ".py",
   "mimetype": "text/x-python",
   "name": "python",
   "nbconvert_exporter": "python",
   "pygments_lexer": "ipython3",
   "version": "3.8.8"
  }
 },
 "nbformat": 4,
 "nbformat_minor": 2
}
