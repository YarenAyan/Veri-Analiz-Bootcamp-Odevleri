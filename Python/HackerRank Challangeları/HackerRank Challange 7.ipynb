{
 "cells": [
  {
   "cell_type": "markdown",
   "metadata": {},
   "source": [
    "### HackerRank Challenge 7: String Split and Join\n",
    "\n",
    "🔗 [HackerRank - Python String Split and Join Challenge](https://www.hackerrank.com/challenges/python-string-split-and-join/problem)\n",
    "\n",
    "Bu ödevde, verilen bir string'in boşluk karakterine göre bölünmesi ve ardından `-` (tire) karakteriyle yeniden birleştirilmesi istenmektedir.\n",
    "\n",
    "*Problem Tanımı:*  \n",
    "- Boşluklarla ayrılmış bir string verilir.  \n",
    "- String, boşluk karakterine göre parçalanır.  \n",
    "- Elde edilen parçalar `-` karakteri ile birleştirilir.\n",
    "\n",
    "*Amaç:*  \n",
    "- `str.split(\" \")` ile kelimeleri ayırmak  \n",
    "- `\"-\".join()` ile yeniden birleştirerek yeni string’i elde etmek\n"
   ]
  },
  {
   "cell_type": "code",
   "execution_count": 1,
   "metadata": {},
   "outputs": [
    {
     "name": "stdout",
     "output_type": "stream",
     "text": [
      "this-is-a-string\n"
     ]
    }
   ],
   "source": [
    "def split_and_join(line):\n",
    "    line = line.split(\" \")\n",
    "    line = \"-\".join(line)\n",
    "    return line\n",
    "\n",
    "def test_case():\n",
    "    input_line = \"this is a string\"\n",
    "    result = split_and_join(input_line)\n",
    "    print(result)\n",
    "\n",
    "test_case()"
   ]
  }
 ],
 "metadata": {
  "kernelspec": {
   "display_name": "base",
   "language": "python",
   "name": "python3"
  },
  "language_info": {
   "codemirror_mode": {
    "name": "ipython",
    "version": 3
   },
   "file_extension": ".py",
   "mimetype": "text/x-python",
   "name": "python",
   "nbconvert_exporter": "python",
   "pygments_lexer": "ipython3",
   "version": "3.8.8"
  }
 },
 "nbformat": 4,
 "nbformat_minor": 2
}
