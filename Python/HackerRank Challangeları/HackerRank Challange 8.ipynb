{
 "cells": [
  {
   "cell_type": "markdown",
   "metadata": {},
   "source": [
    "### HackerRank Challenge 8: Find a String\n",
    "\n",
    "🔗 [HackerRank - Find a String Challenge](https://www.hackerrank.com/challenges/find-a-string/problem)\n",
    "\n",
    "Bu ödevde, verilen bir metin içinde bir alt metnin (substring) kaç defa geçtiği tespit edilmelidir. Aramalar soldan sağa doğru yapılmalı ve harf duyarlılığı (case-sensitive) dikkate alınmalıdır.\n",
    "\n",
    "*Problem Tanımı:*  \n",
    "- İlk satırda orijinal string, ikinci satırda aranacak substring verilir.  \n",
    "- Substring’in, string içinde kaç kez geçtiği (örtüşmeler dahil) bulunmalıdır.\n",
    "\n",
    "*Amaç:*  \n",
    "- for döngüsü ve range kullanarak string üzerinde gezinmek  \n",
    "- Her pozisyonda substring kontrolü yaparak eşleşmeleri saymak\n"
   ]
  },
  {
   "cell_type": "code",
   "execution_count": 1,
   "metadata": {},
   "outputs": [
    {
     "name": "stdout",
     "output_type": "stream",
     "text": [
      "2\n"
     ]
    }
   ],
   "source": [
    "def count_substring(string, sub_string):\n",
    "    count = 0\n",
    "    for i in range(len(string) - len(sub_string) + 1):\n",
    "        if string[i:i+len(sub_string)] == sub_string:\n",
    "            count += 1\n",
    "\n",
    "    return count\n",
    "\n",
    "def test_case():\n",
    "    string = \"ABCDCDC\"\n",
    "    sub_string = \"CDC\"\n",
    "    result = count_substring(string, sub_string)\n",
    "    print(result) \n",
    "\n",
    "test_case()\n"
   ]
  }
 ],
 "metadata": {
  "kernelspec": {
   "display_name": "base",
   "language": "python",
   "name": "python3"
  },
  "language_info": {
   "codemirror_mode": {
    "name": "ipython",
    "version": 3
   },
   "file_extension": ".py",
   "mimetype": "text/x-python",
   "name": "python",
   "nbconvert_exporter": "python",
   "pygments_lexer": "ipython3",
   "version": "3.8.8"
  }
 },
 "nbformat": 4,
 "nbformat_minor": 2
}
