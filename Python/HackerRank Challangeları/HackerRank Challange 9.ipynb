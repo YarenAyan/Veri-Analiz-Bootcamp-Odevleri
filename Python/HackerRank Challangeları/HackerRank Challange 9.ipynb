{
 "cells": [
  {
   "cell_type": "markdown",
   "metadata": {},
   "source": [
    "### HackerRank Challenge 9: Input()\n",
    "\n",
    "🔗 [HackerRank - Input Challenge](https://www.hackerrank.com/challenges/input/problem)\n",
    "\n",
    "Bu ödevde, kullanıcıdan alınan iki değer (bir tamsayı x ve bir sonuç k) ile verilen polinomun doğruluğu test edilmektedir. Amaç, polinom ifadesinin x değeri yerine konulduğunda k sonucunu verip vermediğini kontrol etmektir.\n",
    "\n",
    "*Problem Tanımı:* \n",
    "- İlk satırda boşlukla ayrılmış şekilde x ve k değerleri verilir.  \n",
    "- İkinci satırda bir polinom ifadesi bulunur.  \n",
    "- Yapılacak iş, x polinomda yerine konduğunda, çıkan sonucun k'ya eşit olup olmadığını kontrol etmektir.\n",
    "\n",
    "*Amaç:*\n",
    "- `input()` ile değerleri almak  \n",
    "- `eval()` fonksiyonu ile polinomu değerlendirmek  \n",
    "- Sonuç k ile eşleşiyorsa `True`, değilse `False` çıktısı vermek\n"
   ]
  },
  {
   "cell_type": "code",
   "execution_count": 8,
   "metadata": {},
   "outputs": [
    {
     "name": "stdout",
     "output_type": "stream",
     "text": [
      "True\n"
     ]
    }
   ],
   "source": [
    "def main():\n",
    "    x, n = map(int, input().split())   \n",
    "    polynomial = input()               \n",
    "    result = eval(polynomial)          \n",
    "    print(result == n)\n",
    "\n",
    "def test_case():\n",
    "    x = 1\n",
    "    n = 4\n",
    "    polynomial = \"x**3 + x**2 + x + 1\"\n",
    "    \n",
    "    result = eval(polynomial)\n",
    "    print(result == n)\n",
    "\n",
    "test_case()      \n"
   ]
  }
 ],
 "metadata": {
  "kernelspec": {
   "display_name": "base",
   "language": "python",
   "name": "python3"
  },
  "language_info": {
   "codemirror_mode": {
    "name": "ipython",
    "version": 3
   },
   "file_extension": ".py",
   "mimetype": "text/x-python",
   "name": "python",
   "nbconvert_exporter": "python",
   "pygments_lexer": "ipython3",
   "version": "3.8.8"
  }
 },
 "nbformat": 4,
 "nbformat_minor": 2
}
