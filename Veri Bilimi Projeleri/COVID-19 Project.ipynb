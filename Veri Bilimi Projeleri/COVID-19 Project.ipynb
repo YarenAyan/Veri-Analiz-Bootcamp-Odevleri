{
 "cells": [
  {
   "cell_type": "markdown",
   "metadata": {},
   "source": [
    "# COVID-19 Projesi\n",
    "https://www.kaggle.com/allen-institute-for-ai/CORD-19-research-challenge"
   ]
  },
  {
   "cell_type": "code",
   "execution_count": 1,
   "metadata": {},
   "outputs": [
    {
     "name": "stderr",
     "output_type": "stream",
     "text": [
      "[nltk_data] Downloading package stopwords to\n",
      "[nltk_data]     C:\\Users\\monster\\AppData\\Roaming\\nltk_data...\n",
      "[nltk_data]   Package stopwords is already up-to-date!\n"
     ]
    },
    {
     "data": {
      "text/plain": [
       "True"
      ]
     },
     "execution_count": 1,
     "metadata": {},
     "output_type": "execute_result"
    }
   ],
   "source": [
    "# Gerekli kütüphaneler\n",
    "import pandas as pd\n",
    "import numpy as np\n",
    "import matplotlib.pyplot as plt\n",
    "import seaborn as sns\n",
    "from wordcloud import WordCloud\n",
    "import nltk\n",
    "from nltk.corpus import stopwords\n",
    "from sklearn.feature_extraction.text import TfidfVectorizer\n",
    "from sklearn.decomposition import LatentDirichletAllocation\n",
    "from sklearn.metrics.pairwise import cosine_similarity\n",
    "import warnings\n",
    "warnings.filterwarnings('ignore')\n",
    "\n",
    "nltk.download('stopwords')"
   ]
  },
  {
   "cell_type": "markdown",
   "metadata": {},
   "source": [
    "## 1. Veri Setini Yükleme\n",
    "metadata.csv dosyası, her bir makalenin bilgilerini içerir (başlık, özet, bağlantılar vb.)."
   ]
  },
  {
   "cell_type": "code",
   "execution_count": 2,
   "metadata": {},
   "outputs": [
    {
     "data": {
      "text/html": [
       "<div>\n",
       "<style scoped>\n",
       "    .dataframe tbody tr th:only-of-type {\n",
       "        vertical-align: middle;\n",
       "    }\n",
       "\n",
       "    .dataframe tbody tr th {\n",
       "        vertical-align: top;\n",
       "    }\n",
       "\n",
       "    .dataframe thead th {\n",
       "        text-align: right;\n",
       "    }\n",
       "</style>\n",
       "<table border=\"1\" class=\"dataframe\">\n",
       "  <thead>\n",
       "    <tr style=\"text-align: right;\">\n",
       "      <th></th>\n",
       "      <th>title</th>\n",
       "      <th>abstract</th>\n",
       "      <th>text</th>\n",
       "    </tr>\n",
       "  </thead>\n",
       "  <tbody>\n",
       "    <tr>\n",
       "      <th>0</th>\n",
       "      <td>Clinical features of culture-proven Mycoplasma...</td>\n",
       "      <td>OBJECTIVE: This retrospective chart review des...</td>\n",
       "      <td>Clinical features of culture-proven Mycoplasma...</td>\n",
       "    </tr>\n",
       "    <tr>\n",
       "      <th>1</th>\n",
       "      <td>Nitric oxide: a pro-inflammatory mediator in l...</td>\n",
       "      <td>Inflammatory diseases of the respiratory tract...</td>\n",
       "      <td>Nitric oxide: a pro-inflammatory mediator in l...</td>\n",
       "    </tr>\n",
       "    <tr>\n",
       "      <th>2</th>\n",
       "      <td>Surfactant protein-D and pulmonary host defense</td>\n",
       "      <td>Surfactant protein-D (SP-D) participates in th...</td>\n",
       "      <td>Surfactant protein-D and pulmonary host defens...</td>\n",
       "    </tr>\n",
       "    <tr>\n",
       "      <th>3</th>\n",
       "      <td>Role of endothelin-1 in lung disease</td>\n",
       "      <td>Endothelin-1 (ET-1) is a 21 amino acid peptide...</td>\n",
       "      <td>Role of endothelin-1 in lung disease Endotheli...</td>\n",
       "    </tr>\n",
       "    <tr>\n",
       "      <th>4</th>\n",
       "      <td>Gene expression in epithelial cells in respons...</td>\n",
       "      <td>Respiratory syncytial virus (RSV) and pneumoni...</td>\n",
       "      <td>Gene expression in epithelial cells in respons...</td>\n",
       "    </tr>\n",
       "  </tbody>\n",
       "</table>\n",
       "</div>"
      ],
      "text/plain": [
       "                                               title  \\\n",
       "0  Clinical features of culture-proven Mycoplasma...   \n",
       "1  Nitric oxide: a pro-inflammatory mediator in l...   \n",
       "2    Surfactant protein-D and pulmonary host defense   \n",
       "3               Role of endothelin-1 in lung disease   \n",
       "4  Gene expression in epithelial cells in respons...   \n",
       "\n",
       "                                            abstract  \\\n",
       "0  OBJECTIVE: This retrospective chart review des...   \n",
       "1  Inflammatory diseases of the respiratory tract...   \n",
       "2  Surfactant protein-D (SP-D) participates in th...   \n",
       "3  Endothelin-1 (ET-1) is a 21 amino acid peptide...   \n",
       "4  Respiratory syncytial virus (RSV) and pneumoni...   \n",
       "\n",
       "                                                text  \n",
       "0  Clinical features of culture-proven Mycoplasma...  \n",
       "1  Nitric oxide: a pro-inflammatory mediator in l...  \n",
       "2  Surfactant protein-D and pulmonary host defens...  \n",
       "3  Role of endothelin-1 in lung disease Endotheli...  \n",
       "4  Gene expression in epithelial cells in respons...  "
      ]
     },
     "execution_count": 2,
     "metadata": {},
     "output_type": "execute_result"
    }
   ],
   "source": [
    "# Dosya Kaggle'dan indirilmiş olmalı ve aynı klasörde yer almalıdır\n",
    "df = pd.read_csv('metadata.csv')\n",
    "df = df[['title', 'abstract']].dropna()\n",
    "df = df[df['abstract'].str.len() > 50]  # çok kısa özetleri çıkar\n",
    "df['text'] = df['title'] + ' ' + df['abstract']\n",
    "df.reset_index(drop=True, inplace=True)\n",
    "df.head()"
   ]
  },
  {
   "cell_type": "markdown",
   "metadata": {},
   "source": [
    "## 2. Metin Temizleme ve Ön İşleme"
   ]
  },
  {
   "cell_type": "code",
   "execution_count": 3,
   "metadata": {},
   "outputs": [
    {
     "data": {
      "text/plain": [
       "0    clinical features mycoplasma pneumoniae infect...\n",
       "1    nitric mediator lung inflammatory diseases res...\n",
       "2    surfactant pulmonary host defense surfactant p...\n",
       "3    role lung disease amino acid peptide diverse b...\n",
       "4    gene expression epithelial cells response pneu...\n",
       "Name: cleaned_text, dtype: object"
      ]
     },
     "execution_count": 3,
     "metadata": {},
     "output_type": "execute_result"
    }
   ],
   "source": [
    "stop_words = set(stopwords.words('english'))\n",
    "\n",
    "def clean_text(text):\n",
    "    text = text.lower()\n",
    "    tokens = [w for w in text.split() if w.isalpha() and w not in stop_words]\n",
    "    return ' '.join(tokens)\n",
    "\n",
    "df['cleaned_text'] = df['text'].apply(clean_text)\n",
    "df['cleaned_text'].head()"
   ]
  },
  {
   "cell_type": "markdown",
   "metadata": {},
   "source": [
    "## 3. En Sık Geçen Kelimeler (Bar Grafik ile Görselleştirme)\n",
    "WordCloud yerine daha uyumlu ve kararlı bir yöntem olan bar grafik kullanıyoruz."
   ]
  },
  {
   "cell_type": "code",
   "execution_count": 4,
   "metadata": {},
   "outputs": [
    {
     "data": {
      "image/png": "[encoded data removed]",
      "text/plain": [
       "<Figure size 864x432 with 1 Axes>"
      ]
     },
     "metadata": {
      "needs_background": "light"
     },
     "output_type": "display_data"
    }
   ],
   "source": [
    "from collections import Counter\n",
    "\n",
    "words = ' '.join(df['cleaned_text'][:1000]).split()\n",
    "word_freq = Counter(words)\n",
    "most_common = word_freq.most_common(20)\n",
    "\n",
    "labels, values = zip(*most_common)\n",
    "plt.figure(figsize=(12, 6))\n",
    "sns.barplot(x=list(labels), y=list(values))\n",
    "plt.xticks(rotation=45)\n",
    "plt.title('En Sık Geçen 20 Kelime')\n",
    "plt.show()"
   ]
  },
  {
   "cell_type": "markdown",
   "metadata": {},
   "source": [
    "## 4. TF-IDF Analizi\n",
    "Belgelerde önemli anahtar kelimeleri çıkarmak için kullanılır."
   ]
  },
  {
   "cell_type": "code",
   "execution_count": 6,
   "metadata": {},
   "outputs": [
    {
     "data": {
      "text/html": [
       "<div>\n",
       "<style scoped>\n",
       "    .dataframe tbody tr th:only-of-type {\n",
       "        vertical-align: middle;\n",
       "    }\n",
       "\n",
       "    .dataframe tbody tr th {\n",
       "        vertical-align: top;\n",
       "    }\n",
       "\n",
       "    .dataframe thead th {\n",
       "        text-align: right;\n",
       "    }\n",
       "</style>\n",
       "<table border=\"1\" class=\"dataframe\">\n",
       "  <thead>\n",
       "    <tr style=\"text-align: right;\">\n",
       "      <th></th>\n",
       "      <th>Word</th>\n",
       "      <th>TF-IDF Score</th>\n",
       "    </tr>\n",
       "  </thead>\n",
       "  <tbody>\n",
       "    <tr>\n",
       "      <th>0</th>\n",
       "      <td>influenza</td>\n",
       "      <td>0.034217</td>\n",
       "    </tr>\n",
       "    <tr>\n",
       "      <th>1</th>\n",
       "      <td>virus</td>\n",
       "      <td>0.026999</td>\n",
       "    </tr>\n",
       "    <tr>\n",
       "      <th>2</th>\n",
       "      <td>patients</td>\n",
       "      <td>0.019767</td>\n",
       "    </tr>\n",
       "    <tr>\n",
       "      <th>3</th>\n",
       "      <td>human</td>\n",
       "      <td>0.019575</td>\n",
       "    </tr>\n",
       "    <tr>\n",
       "      <th>4</th>\n",
       "      <td>cells</td>\n",
       "      <td>0.019470</td>\n",
       "    </tr>\n",
       "    <tr>\n",
       "      <th>5</th>\n",
       "      <td>viral</td>\n",
       "      <td>0.019147</td>\n",
       "    </tr>\n",
       "    <tr>\n",
       "      <th>6</th>\n",
       "      <td>infection</td>\n",
       "      <td>0.018697</td>\n",
       "    </tr>\n",
       "    <tr>\n",
       "      <th>7</th>\n",
       "      <td>pandemic</td>\n",
       "      <td>0.016809</td>\n",
       "    </tr>\n",
       "    <tr>\n",
       "      <th>8</th>\n",
       "      <td>disease</td>\n",
       "      <td>0.016410</td>\n",
       "    </tr>\n",
       "    <tr>\n",
       "      <th>9</th>\n",
       "      <td>protein</td>\n",
       "      <td>0.016361</td>\n",
       "    </tr>\n",
       "  </tbody>\n",
       "</table>\n",
       "</div>"
      ],
      "text/plain": [
       "        Word  TF-IDF Score\n",
       "0  influenza      0.034217\n",
       "1      virus      0.026999\n",
       "2   patients      0.019767\n",
       "3      human      0.019575\n",
       "4      cells      0.019470\n",
       "5      viral      0.019147\n",
       "6  infection      0.018697\n",
       "7   pandemic      0.016809\n",
       "8    disease      0.016410\n",
       "9    protein      0.016361"
      ]
     },
     "execution_count": 6,
     "metadata": {},
     "output_type": "execute_result"
    }
   ],
   "source": [
    "tfidf = TfidfVectorizer(max_features=5000, stop_words='english')\n",
    "X = tfidf.fit_transform(df['cleaned_text'][:1000])\n",
    "feature_names = tfidf.get_feature_names()  \n",
    "\n",
    "# En yüksek TF-IDF skorlu 10 kelime\n",
    "mean_scores = np.asarray(X.mean(axis=0)).ravel()\n",
    "top_indices = mean_scores.argsort()[-10:][::-1]\n",
    "top_features = [(feature_names[i], mean_scores[i]) for i in top_indices]\n",
    "pd.DataFrame(top_features, columns=['Word', 'TF-IDF Score'])\n"
   ]
  },
  {
   "cell_type": "markdown",
   "metadata": {},
   "source": [
    "## 5. LDA ile Konu Modellemesi\n",
    "Literatürde öne çıkan temaları (topics) ortaya çıkarmaya çalışalım."
   ]
  },
  {
   "cell_type": "code",
   "execution_count": 7,
   "metadata": {},
   "outputs": [
    {
     "name": "stdout",
     "output_type": "stream",
     "text": [
      "Topic 1:\n",
      "['polarity', 'glycosites', 'outdoor', 'gsh', 'autophagy', 'macrophage', 'claudins', 'microglia', 'veillonella', 'redox']\n",
      "\n",
      "Topic 2:\n",
      "['proteins', 'expression', 'cell', 'gene', 'human', 'cells', 'rna', 'viral', 'virus', 'protein']\n",
      "\n",
      "Topic 3:\n",
      "['disease', 'pandemic', 'associated', 'infection', 'lung', 'acute', 'clinical', 'influenza', 'respiratory', 'patients']\n",
      "\n",
      "Topic 4:\n",
      "['minibody', 'mscl', 'safv', 'ires', 'iggs', 'uba', 'plastid', 'poliovirus', 'enterovirus', 'reovirus']\n",
      "\n",
      "Topic 5:\n",
      "['infection', 'human', 'disease', 'transmission', 'public', 'avian', 'virus', 'health', 'pandemic', 'influenza']\n",
      "\n"
     ]
    }
   ],
   "source": [
    "lda = LatentDirichletAllocation(n_components=5, random_state=0)\n",
    "lda.fit(X)\n",
    "\n",
    "for idx, topic in enumerate(lda.components_):\n",
    "    print(f'Topic {idx + 1}:')\n",
    "    print([feature_names[i] for i in topic.argsort()[-10:]])\n",
    "    print()"
   ]
  },
  {
   "cell_type": "markdown",
   "metadata": {},
   "source": [
    "## 6. Örnek Bilimsel Sorulara Yanıt Arama\n",
    "*“Maskeler virüs yayılımını azaltıyor mu?”* gibi sorular için benzer içerikler bulabiliriz."
   ]
  },
  {
   "cell_type": "code",
   "execution_count": 8,
   "metadata": {},
   "outputs": [
    {
     "data": {
      "text/html": [
       "<div>\n",
       "<style scoped>\n",
       "    .dataframe tbody tr th:only-of-type {\n",
       "        vertical-align: middle;\n",
       "    }\n",
       "\n",
       "    .dataframe tbody tr th {\n",
       "        vertical-align: top;\n",
       "    }\n",
       "\n",
       "    .dataframe thead th {\n",
       "        text-align: right;\n",
       "    }\n",
       "</style>\n",
       "<table border=\"1\" class=\"dataframe\">\n",
       "  <thead>\n",
       "    <tr style=\"text-align: right;\">\n",
       "      <th></th>\n",
       "      <th>title</th>\n",
       "      <th>abstract</th>\n",
       "    </tr>\n",
       "  </thead>\n",
       "  <tbody>\n",
       "    <tr>\n",
       "      <th>154</th>\n",
       "      <td>Professional and Home-Made Face Masks Reduce E...</td>\n",
       "      <td>BACKGROUND: Governments are preparing for a po...</td>\n",
       "    </tr>\n",
       "    <tr>\n",
       "      <th>980</th>\n",
       "      <td>Wearing face masks in public during the influe...</td>\n",
       "      <td>BACKGROUND: Although the wearing of face masks...</td>\n",
       "    </tr>\n",
       "    <tr>\n",
       "      <th>143</th>\n",
       "      <td>Preliminary Findings of a Randomized Trial of ...</td>\n",
       "      <td>BACKGROUND: There are sparse data on whether n...</td>\n",
       "    </tr>\n",
       "    <tr>\n",
       "      <th>598</th>\n",
       "      <td>Avian Influenza Risk Perception and Preventive...</td>\n",
       "      <td>BACKGROUND: Avian influenza (AI) can be highly...</td>\n",
       "    </tr>\n",
       "    <tr>\n",
       "      <th>282</th>\n",
       "      <td>Initial psychological responses to Influenza A...</td>\n",
       "      <td>BACKGROUND: The outbreak of the pandemic flu, ...</td>\n",
       "    </tr>\n",
       "  </tbody>\n",
       "</table>\n",
       "</div>"
      ],
      "text/plain": [
       "                                                 title  \\\n",
       "154  Professional and Home-Made Face Masks Reduce E...   \n",
       "980  Wearing face masks in public during the influe...   \n",
       "143  Preliminary Findings of a Randomized Trial of ...   \n",
       "598  Avian Influenza Risk Perception and Preventive...   \n",
       "282  Initial psychological responses to Influenza A...   \n",
       "\n",
       "                                              abstract  \n",
       "154  BACKGROUND: Governments are preparing for a po...  \n",
       "980  BACKGROUND: Although the wearing of face masks...  \n",
       "143  BACKGROUND: There are sparse data on whether n...  \n",
       "598  BACKGROUND: Avian influenza (AI) can be highly...  \n",
       "282  BACKGROUND: The outbreak of the pandemic flu, ...  "
      ]
     },
     "execution_count": 8,
     "metadata": {},
     "output_type": "execute_result"
    }
   ],
   "source": [
    "question = 'do face masks reduce transmission of coronavirus'\n",
    "question_vec = tfidf.transform([question])\n",
    "similarities = cosine_similarity(question_vec, X[:1000]).flatten()\n",
    "top_doc_indices = similarities.argsort()[-5:][::-1]\n",
    "df.iloc[top_doc_indices][['title', 'abstract']]"
   ]
  },
  {
   "cell_type": "markdown",
   "metadata": {},
   "source": [
    "## 7. Sonuçlar ve Yorumlar\n",
    "- COVID-19 literatürü oldukça geniştir ve otomatik analizler büyük kolaylık sağlar.\n",
    "- En sık geçen kavramlar koronavirüsün yayılımı, aşı, bulaşma yolları ve halk sağlığı etrafında yoğunlaşmaktadır.\n",
    "- LDA ile elde edilen konular, salgının farklı yönlerini temsil etmektedir (klinik etkiler, önleme yöntemleri vb.).\n",
    "- Örnek bir soruya benzer içerikler başarıyla bulunmuştur.\n",
    "\n",
    "**Gelecek adımlar:**\n",
    "- BERT gibi dil modelleri ile gelişmiş cevap üretimi\n",
    "- Zaman serisi analizleri ile bilgi değişim takibi"
   ]
  }
 ],
 "metadata": {
  "kernelspec": {
   "display_name": "base",
   "language": "python",
   "name": "python3"
  },
  "language_info": {
   "codemirror_mode": {
    "name": "ipython",
    "version": 3
   },
   "file_extension": ".py",
   "mimetype": "text/x-python",
   "name": "python",
   "nbconvert_exporter": "python",
   "pygments_lexer": "ipython3",
   "version": "3.8.8"
  }
 },
 "nbformat": 4,
 "nbformat_minor": 2
}
