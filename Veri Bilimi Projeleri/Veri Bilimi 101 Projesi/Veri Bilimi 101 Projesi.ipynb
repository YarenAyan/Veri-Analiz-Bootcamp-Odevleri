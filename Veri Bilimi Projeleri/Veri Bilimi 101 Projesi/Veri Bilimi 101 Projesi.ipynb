{
 "cells": [
  {
   "cell_type": "code",
   "execution_count": 3,
   "id": "a685e16d",
   "metadata": {},
   "outputs": [],
   "source": [
    "import pandas as pd\n",
    "import numpy as np\n",
    "import matplotlib.pyplot as plt\n",
    "import warnings\n",
    "\n",
    "warnings.simplefilter(action='ignore', category=FutureWarning)\n",
    "pd.options.mode.chained_assignment = None "
   ]
  },
  {
   "cell_type": "code",
   "execution_count": 4,
   "id": "3c8720fe",
   "metadata": {},
   "outputs": [],
   "source": [
    "housing = pd.read_csv('housing.csv')"
   ]
  },
  {
   "cell_type": "code",
   "execution_count": 5,
   "id": "8e1dd077",
   "metadata": {},
   "outputs": [
    {
     "data": {
      "text/html": [
       "<div>\n",
       "<style scoped>\n",
       "    .dataframe tbody tr th:only-of-type {\n",
       "        vertical-align: middle;\n",
       "    }\n",
       "\n",
       "    .dataframe tbody tr th {\n",
       "        vertical-align: top;\n",
       "    }\n",
       "\n",
       "    .dataframe thead th {\n",
       "        text-align: right;\n",
       "    }\n",
       "</style>\n",
       "<table border=\"1\" class=\"dataframe\">\n",
       "  <thead>\n",
       "    <tr style=\"text-align: right;\">\n",
       "      <th></th>\n",
       "      <th>longitude</th>\n",
       "      <th>latitude</th>\n",
       "      <th>housing_median_age</th>\n",
       "      <th>total_rooms</th>\n",
       "      <th>total_bedrooms</th>\n",
       "      <th>population</th>\n",
       "      <th>households</th>\n",
       "      <th>median_income</th>\n",
       "      <th>median_house_value</th>\n",
       "      <th>ocean_proximity</th>\n",
       "    </tr>\n",
       "  </thead>\n",
       "  <tbody>\n",
       "    <tr>\n",
       "      <th>0</th>\n",
       "      <td>-122.23</td>\n",
       "      <td>37.88</td>\n",
       "      <td>41.0</td>\n",
       "      <td>880.0</td>\n",
       "      <td>129.0</td>\n",
       "      <td>322.0</td>\n",
       "      <td>126.0</td>\n",
       "      <td>8.3252</td>\n",
       "      <td>452600.0</td>\n",
       "      <td>NEAR BAY</td>\n",
       "    </tr>\n",
       "    <tr>\n",
       "      <th>1</th>\n",
       "      <td>-122.22</td>\n",
       "      <td>37.86</td>\n",
       "      <td>21.0</td>\n",
       "      <td>7099.0</td>\n",
       "      <td>1106.0</td>\n",
       "      <td>2401.0</td>\n",
       "      <td>1138.0</td>\n",
       "      <td>8.3014</td>\n",
       "      <td>358500.0</td>\n",
       "      <td>NEAR BAY</td>\n",
       "    </tr>\n",
       "    <tr>\n",
       "      <th>2</th>\n",
       "      <td>-122.24</td>\n",
       "      <td>37.85</td>\n",
       "      <td>52.0</td>\n",
       "      <td>1467.0</td>\n",
       "      <td>190.0</td>\n",
       "      <td>496.0</td>\n",
       "      <td>177.0</td>\n",
       "      <td>7.2574</td>\n",
       "      <td>352100.0</td>\n",
       "      <td>NEAR BAY</td>\n",
       "    </tr>\n",
       "    <tr>\n",
       "      <th>3</th>\n",
       "      <td>-122.25</td>\n",
       "      <td>37.85</td>\n",
       "      <td>52.0</td>\n",
       "      <td>1274.0</td>\n",
       "      <td>235.0</td>\n",
       "      <td>558.0</td>\n",
       "      <td>219.0</td>\n",
       "      <td>5.6431</td>\n",
       "      <td>341300.0</td>\n",
       "      <td>NEAR BAY</td>\n",
       "    </tr>\n",
       "    <tr>\n",
       "      <th>4</th>\n",
       "      <td>-122.25</td>\n",
       "      <td>37.85</td>\n",
       "      <td>52.0</td>\n",
       "      <td>1627.0</td>\n",
       "      <td>280.0</td>\n",
       "      <td>565.0</td>\n",
       "      <td>259.0</td>\n",
       "      <td>3.8462</td>\n",
       "      <td>342200.0</td>\n",
       "      <td>NEAR BAY</td>\n",
       "    </tr>\n",
       "  </tbody>\n",
       "</table>\n",
       "</div>"
      ],
      "text/plain": [
       "   longitude  latitude  housing_median_age  total_rooms  total_bedrooms  \\\n",
       "0    -122.23     37.88                41.0        880.0           129.0   \n",
       "1    -122.22     37.86                21.0       7099.0          1106.0   \n",
       "2    -122.24     37.85                52.0       1467.0           190.0   \n",
       "3    -122.25     37.85                52.0       1274.0           235.0   \n",
       "4    -122.25     37.85                52.0       1627.0           280.0   \n",
       "\n",
       "   population  households  median_income  median_house_value ocean_proximity  \n",
       "0       322.0       126.0         8.3252            452600.0        NEAR BAY  \n",
       "1      2401.0      1138.0         8.3014            358500.0        NEAR BAY  \n",
       "2       496.0       177.0         7.2574            352100.0        NEAR BAY  \n",
       "3       558.0       219.0         5.6431            341300.0        NEAR BAY  \n",
       "4       565.0       259.0         3.8462            342200.0        NEAR BAY  "
      ]
     },
     "execution_count": 5,
     "metadata": {},
     "output_type": "execute_result"
    }
   ],
   "source": [
    "housing.head() # head() method returns top 5 rows from  dataset, that way we can clearly observe dataset"
   ]
  },
  {
   "cell_type": "code",
   "execution_count": 6,
   "id": "9bbacc7a",
   "metadata": {
    "scrolled": true
   },
   "outputs": [
    {
     "name": "stdout",
     "output_type": "stream",
     "text": [
      "<class 'pandas.core.frame.DataFrame'>\n",
      "RangeIndex: 20640 entries, 0 to 20639\n",
      "Data columns (total 10 columns):\n",
      " #   Column              Non-Null Count  Dtype  \n",
      "---  ------              --------------  -----  \n",
      " 0   longitude           20640 non-null  float64\n",
      " 1   latitude            20640 non-null  float64\n",
      " 2   housing_median_age  20640 non-null  float64\n",
      " 3   total_rooms         20640 non-null  float64\n",
      " 4   total_bedrooms      20433 non-null  float64\n",
      " 5   population          20640 non-null  float64\n",
      " 6   households          20640 non-null  float64\n",
      " 7   median_income       20640 non-null  float64\n",
      " 8   median_house_value  20640 non-null  float64\n",
      " 9   ocean_proximity     20640 non-null  object \n",
      "dtypes: float64(9), object(1)\n",
      "memory usage: 1.6+ MB\n"
     ]
    }
   ],
   "source": [
    "housing.info() # We use info() method For accessing information about dataset such as, properties of data, types of data and number of data."
   ]
  },
  {
   "cell_type": "code",
   "execution_count": 7,
   "id": "20a43687",
   "metadata": {},
   "outputs": [
    {
     "data": {
      "image/png": "[encoded data removed]",
      "text/plain": [
       "<Figure size 1440x1080 with 9 Axes>"
      ]
     },
     "metadata": {
      "needs_background": "light"
     },
     "output_type": "display_data"
    }
   ],
   "source": [
    "# We plot data as histograms for visualization\n",
    "\n",
    "housing.hist(bins=50,figsize=(20,15))\n",
    "plt.show()"
   ]
  },
  {
   "cell_type": "code",
   "execution_count": 8,
   "id": "a750f65e",
   "metadata": {},
   "outputs": [
    {
     "data": {
      "text/plain": [
       "longitude               0\n",
       "latitude                0\n",
       "housing_median_age      0\n",
       "total_rooms             0\n",
       "total_bedrooms        207\n",
       "population              0\n",
       "households              0\n",
       "median_income           0\n",
       "median_house_value      0\n",
       "ocean_proximity         0\n",
       "dtype: int64"
      ]
     },
     "execution_count": 8,
     "metadata": {},
     "output_type": "execute_result"
    }
   ],
   "source": [
    "housing.isnull().sum() # We must control that whether our data set contains any null values or not."
   ]
  },
  {
   "cell_type": "markdown",
   "id": "6d15a60b",
   "metadata": {},
   "source": [
    "# Analyzing Null values\n",
    "\n",
    "We detected some null values in the total_bedrooms column, what can we do about it? We can basically replace numeric values with null values using the fillna() method. But what if we want to try another method? In this project, I would like to present you an alternative way of handling null datas.<br>\n",
    "When we observe the head of the dataset, we see some correlation between the total_bedrooms column and the household column. If we can prove our statement we can replace missing values in total_bedrooms column with the corresponded values in household column. Since we only observed a small part of our dataset, we cannot be completely sure of our statement.<br>\n",
    "\n",
    "#### To better interpret our statement, let's vizualize the columns total_bedrooms and houses columns.\n"
   ]
  },
  {
   "cell_type": "code",
   "execution_count": 9,
   "id": "cde117b0",
   "metadata": {},
   "outputs": [
    {
     "data": {
      "image/png": "[encoded data removed]",
      "text/plain": [
       "<Figure size 1080x504 with 1 Axes>"
      ]
     },
     "metadata": {
      "needs_background": "light"
     },
     "output_type": "display_data"
    }
   ],
   "source": [
    "plt.subplots(figsize=(15, 7))\n",
    "\n",
    "plt.title('Histogram Plot: Total Bedrooms')\n",
    "\n",
    "total_bedrooms = housing['total_bedrooms']\n",
    "\n",
    "plt.hist( total_bedrooms, bins=500, alpha=0.8,\n",
    "          histtype='bar', color='steelblue',\n",
    "          edgecolor='green')\n",
    "\n",
    "plt.show()"
   ]
  },
  {
   "cell_type": "code",
   "execution_count": 10,
   "id": "6d5457e0",
   "metadata": {},
   "outputs": [
    {
     "data": {
      "image/png": "[encoded data removed]",
      "text/plain": [
       "<Figure size 1080x504 with 1 Axes>"
      ]
     },
     "metadata": {
      "needs_background": "light"
     },
     "output_type": "display_data"
    }
   ],
   "source": [
    "plt.subplots(figsize=(15, 7))\n",
    "\n",
    "plt.title('Histogram Plot: Households')\n",
    "\n",
    "households = housing['households']\n",
    "\n",
    "plt.hist( households, bins=500, alpha=0.8,\n",
    "          histtype='bar', color='blue',\n",
    "          edgecolor='green')\n",
    "\n",
    "plt.show()"
   ]
  },
  {
   "cell_type": "code",
   "execution_count": 11,
   "id": "eb593be2",
   "metadata": {},
   "outputs": [
    {
     "data": {
      "image/png": "[encoded data removed]",
      "text/plain": [
       "<Figure size 1008x432 with 2 Axes>"
      ]
     },
     "metadata": {
      "needs_background": "light"
     },
     "output_type": "display_data"
    }
   ],
   "source": [
    "plt.figure(figsize=(14, 6))\n",
    "\n",
    "plt.rcParams['axes.grid'] = False # For suppressing the depreciation error\n",
    "\n",
    "plt.title('Scatter Plot: Total Bedrooms and Households ')\n",
    "\n",
    "\n",
    "N = households.size\n",
    "colors = np.random.rand(N)\n",
    "area = np.pi * (20 * np.random.rand(N))**2 \n",
    "\n",
    "plt.xlabel('Total Bedrooms')\n",
    "plt.ylabel('Households')\n",
    "\n",
    "plt.scatter(total_bedrooms, households, s=area, c=colors, alpha=0.5, cmap='Spectral')\n",
    "plt.colorbar()\n",
    "\n",
    "plt.show()"
   ]
  },
  {
   "cell_type": "markdown",
   "id": "34ada426",
   "metadata": {},
   "source": [
    "# Applying statistics for observing relationship between total bedrooms and households\n",
    "\n",
    "As we observed from scatter plot there is a positive trend between total bedrooms and households. So we are supposing a null hypothesis that total bedrooms and households are same attributes. In this case, we need to try to reject our null hypothesis and come up with an alternative hypothesis that assumes total bedrooms and households are not same attributes. <br>\n",
    "#### We can represent this relationship like that;\n",
    "__tb__ : Total bedrooms<br>\n",
    "__hh__ : House holds<br>\n",
    "__Ho__ :  tb = hh<br>\n",
    "__Ha__ :  tb != hh<br>\n",
    "\n",
    "\n",
    "#### What are the steps for testing Null Hypothesis? \n",
    "- Specify a significance level α\n",
    "- Calculate variance for total bedrooms and households\n",
    "- Calculate standart deviation for total bedrooms and households\n",
    "- Evaluate p-score using t-test\n",
    "- Apply p-test, if p-score is greater than significance level accept null hypothesis, if not reject null hypothesis\n",
    "\n",
    "__For testing our null hypothesis we select our significance level as 0.05__"
   ]
  },
  {
   "cell_type": "code",
   "execution_count": 12,
   "id": "4c2b102f",
   "metadata": {},
   "outputs": [
    {
     "name": "stdout",
     "output_type": "stream",
     "text": [
      "Variance of; (total bedrooms: 175784.4754402569, import scipy.stats as stats: 146176.03990028054)\n"
     ]
    }
   ],
   "source": [
    "# Variance total_bedrooms and households\n",
    "var_total_bedrooms = (np.square(total_bedrooms - total_bedrooms.mean())).sum() / (housing.shape[0] - 1)\n",
    "var_households = (np.square(households - households.mean())).sum() / (housing.shape[0] - 1)\n",
    "print(f'Variance of; (total bedrooms: {var_total_bedrooms}, import scipy.stats as stats: {var_households})')"
   ]
  },
  {
   "cell_type": "code",
   "execution_count": 13,
   "id": "9c9e5cc6",
   "metadata": {},
   "outputs": [
    {
     "name": "stdout",
     "output_type": "stream",
     "text": [
      "Standart deviation of; (total bedrooms: 419.26659232552373, households: 382.32975283161073)\n"
     ]
    }
   ],
   "source": [
    "# Standart deviation for total_bedrooms and households\n",
    "S_total_bedrooms = np.sqrt(var_total_bedrooms)\n",
    "S_households = np.sqrt(var_households)\n",
    "print(f'Standart deviation of; (total bedrooms: {S_total_bedrooms}, households: {S_households})')"
   ]
  },
  {
   "cell_type": "code",
   "execution_count": 14,
   "id": "eff111ad",
   "metadata": {},
   "outputs": [
    {
     "name": "stdout",
     "output_type": "stream",
     "text": [
      "t score: 9.705149779887096, p score: 3.0279724591955457e-22)\n"
     ]
    }
   ],
   "source": [
    "# We can evaluate p score from t-test using scipy.stats library\n",
    "import scipy.stats as stats\n",
    "\n",
    "tstat, pvalue = stats.ttest_ind_from_stats(total_bedrooms.mean(), S_total_bedrooms, total_bedrooms.size, households.mean(), S_households, households.size)\n",
    "print(f't score: {tstat}, p score: {pvalue})')"
   ]
  },
  {
   "cell_type": "markdown",
   "id": "72dc0fe3",
   "metadata": {},
   "source": [
    "As a result, we can clearly see that our p value is lesser than significance level α (3.0279724591955457e-22 < 0.05).<br>\n",
    "In that case we reject our null hypothesis. So we can say our statement is false but we should also check correlation between two columns."
   ]
  },
  {
   "cell_type": "markdown",
   "id": "71014c22",
   "metadata": {},
   "source": [
    "## Correlation between two column."
   ]
  },
  {
   "cell_type": "code",
   "execution_count": 15,
   "id": "4d3c9911",
   "metadata": {},
   "outputs": [
    {
     "data": {
      "text/plain": [
       "156246.54825893574"
      ]
     },
     "execution_count": 15,
     "metadata": {},
     "output_type": "execute_result"
    }
   ],
   "source": [
    "# Covariance between total_bedrooms and households\n",
    "cov = ((total_bedrooms -  total_bedrooms.mean()) * (households - households.mean())).sum() / (housing.shape[0] - 1)\n",
    "cov"
   ]
  },
  {
   "cell_type": "code",
   "execution_count": 16,
   "id": "936759cf",
   "metadata": {},
   "outputs": [
    {
     "data": {
      "text/plain": [
       "0.974724937213194"
      ]
     },
     "execution_count": 16,
     "metadata": {},
     "output_type": "execute_result"
    }
   ],
   "source": [
    "# Correlation between total_bedrooms and population\n",
    "corr = cov / (S_total_bedrooms * S_households)\n",
    "corr"
   ]
  },
  {
   "cell_type": "code",
   "execution_count": 17,
   "id": "2a84373d",
   "metadata": {},
   "outputs": [
    {
     "data": {
      "text/html": [
       "<div>\n",
       "<style scoped>\n",
       "    .dataframe tbody tr th:only-of-type {\n",
       "        vertical-align: middle;\n",
       "    }\n",
       "\n",
       "    .dataframe tbody tr th {\n",
       "        vertical-align: top;\n",
       "    }\n",
       "\n",
       "    .dataframe thead th {\n",
       "        text-align: right;\n",
       "    }\n",
       "</style>\n",
       "<table border=\"1\" class=\"dataframe\">\n",
       "  <thead>\n",
       "    <tr style=\"text-align: right;\">\n",
       "      <th></th>\n",
       "      <th>total_bedrooms</th>\n",
       "      <th>households</th>\n",
       "    </tr>\n",
       "  </thead>\n",
       "  <tbody>\n",
       "    <tr>\n",
       "      <th>total_bedrooms</th>\n",
       "      <td>1.000000</td>\n",
       "      <td>0.979728</td>\n",
       "    </tr>\n",
       "    <tr>\n",
       "      <th>households</th>\n",
       "      <td>0.979728</td>\n",
       "      <td>1.000000</td>\n",
       "    </tr>\n",
       "  </tbody>\n",
       "</table>\n",
       "</div>"
      ],
      "text/plain": [
       "                total_bedrooms  households\n",
       "total_bedrooms        1.000000    0.979728\n",
       "households            0.979728    1.000000"
      ]
     },
     "execution_count": 17,
     "metadata": {},
     "output_type": "execute_result"
    }
   ],
   "source": [
    "# Or in shorter way, we can use pandas correlation() method for calculating correlation between columns\n",
    "housing[['total_bedrooms','households']].corr()"
   ]
  },
  {
   "cell_type": "markdown",
   "id": "bf68cf6f",
   "metadata": {},
   "source": [
    "So, there is a strong positive correlation exists between two columns. Eventough we rejected our null hypothesis, since there is a strong correlation exists, we can replace missing values in total bedrooms column with the corresponding values in household column."
   ]
  },
  {
   "cell_type": "markdown",
   "id": "c3552525",
   "metadata": {},
   "source": [
    "# Handling null values\n",
    "\n",
    "- First we have to find indexes of the null values in total_bedrooms column. \n",
    "- Then we will get corresponding indexes in the household column. \n",
    "- Finally we will replace null values with the values from household column."
   ]
  },
  {
   "cell_type": "code",
   "execution_count": 18,
   "id": "ee4c66ea",
   "metadata": {},
   "outputs": [
    {
     "name": "stdout",
     "output_type": "stream",
     "text": [
      "[290, 341, 538, 563, 696, 738, 1097, 1350, 1456, 1493, 1606, 2028, 2115, 2301, 2323, 2334, 2351, 2412, 2420, 2578, 2608, 2647, 2826, 3024, 3328, 3354, 3376, 3482, 3485, 3529, 3721, 3778, 3912, 3921, 3958, 4043, 4046, 4186, 4279, 4309, 4391, 4447, 4496, 4591, 4600, 4629, 4667, 4691, 4738, 4743, 4744, 4767, 4852, 5059, 5216, 5222, 5236, 5654, 5665, 5678, 5723, 5751, 5990, 6052, 6068, 6220, 6241, 6253, 6298, 6421, 6541, 6590, 6814, 6835, 6962, 7097, 7113, 7168, 7191, 7228, 7316, 7330, 7547, 7654, 7668, 7763, 7806, 8337, 8383, 8530, 8915, 9149, 9571, 9620, 9622, 9814, 9845, 9877, 9942, 9970, 10033, 10216, 10236, 10385, 10389, 10428, 10495, 10761, 10885, 10915, 11096, 11311, 11351, 11441, 11449, 11512, 11741, 12101, 12414, 12570, 12809, 13015, 13069, 13311, 13332, 13336, 13597, 13656, 13706, 13925, 13932, 13933, 14015, 14152, 14173, 14307, 14331, 14386, 14462, 14521, 14641, 14930, 14970, 14986, 15030, 15060, 15118, 15137, 15397, 15479, 15607, 15663, 15890, 15975, 16025, 16038, 16104, 16105, 16330, 16757, 16879, 16880, 16885, 17041, 17198, 17202, 17639, 17825, 17840, 17923, 17928, 17973, 18177, 18246, 18261, 18332, 18346, 18466, 18786, 18873, 18914, 19060, 19071, 19122, 19150, 19252, 19332, 19391, 19402, 19485, 19559, 19607, 19638, 19766, 19818, 19833, 19890, 19932, 19959, 20046, 20069, 20125, 20267, 20268, 20372, 20460, 20484]\n"
     ]
    }
   ],
   "source": [
    "# Finding indexes of the null values in total_bedrooms column and appending them in to a empty list\n",
    "null_indexes = []\n",
    "for (i, v) in housing[\"total_bedrooms\"].iteritems():\n",
    "    if pd.isna(v):\n",
    "        null_indexes.append(i)\n",
    "print(null_indexes)"
   ]
  },
  {
   "cell_type": "code",
   "execution_count": 19,
   "id": "a6ba17f0",
   "metadata": {},
   "outputs": [
    {
     "name": "stdout",
     "output_type": "stream",
     "text": [
      "[218.0, 259.0, 1273.0, 146.0, 161.0, 557.0, 600.0, 1012.0, 540.0, 499.0, 626.0, 372.0, 1260.0, 928.0, 580.0, 224.0, 292.0, 243.0, 257.0, 669.0, 266.0, 91.0, 16.0, 584.0, 310.0, 902.0, 769.0, 623.0, 1200.0, 550.0, 737.0, 1492.0, 1280.0, 403.0, 677.0, 155.0, 528.0, 294.0, 312.0, 726.0, 422.0, 439.0, 290.0, 1179.0, 682.0, 1462.0, 439.0, 516.0, 187.0, 271.0, 475.0, 292.0, 245.0, 749.0, 231.0, 476.0, 302.0, 403.0, 771.0, 441.0, 339.0, 326.0, 530.0, 328.0, 727.0, 500.0, 497.0, 403.0, 1251.0, 474.0, 257.0, 155.0, 1012.0, 622.0, 357.0, 552.0, 221.0, 120.0, 452.0, 427.0, 1196.0, 212.0, 248.0, 629.0, 269.0, 130.0, 219.0, 270.0, 951.0, 287.0, 130.0, 1483.0, 132.0, 257.0, 112.0, 428.0, 393.0, 67.0, 72.0, 439.0, 437.0, 276.0, 423.0, 762.0, 541.0, 218.0, 522.0, 183.0, 622.0, 499.0, 351.0, 242.0, 1063.0, 996.0, 606.0, 512.0, 186.0, 1176.0, 202.0, 562.0, 281.0, 627.0, 375.0, 843.0, 611.0, 358.0, 107.0, 391.0, 532.0, 158.0, 375.0, 592.0, 201.0, 539.0, 390.0, 108.0, 499.0, 426.0, 268.0, 687.0, 246.0, 108.0, 677.0, 400.0, 499.0, 682.0, 231.0, 862.0, 801.0, 214.0, 152.0, 963.0, 89.0, 647.0, 406.0, 404.0, 328.0, 354.0, 254.0, 1537.0, 156.0, 715.0, 480.0, 757.0, 603.0, 395.0, 535.0, 1438.0, 364.0, 386.0, 686.0, 893.0, 275.0, 584.0, 194.0, 1093.0, 3589.0, 482.0, 181.0, 516.0, 738.0, 275.0, 501.0, 778.0, 397.0, 1405.0, 329.0, 106.0, 596.0, 255.0, 320.0, 83.0, 262.0, 494.0, 149.0, 293.0, 254.0, 516.0, 206.0, 359.0, 93.0, 347.0, 779.0, 762.0, 669.0, 814.0, 495.0]\n"
     ]
    }
   ],
   "source": [
    "# Accessing household columns values with null_indexes from total_bedrooms column\n",
    "values = []\n",
    "\n",
    "for i in range(len(null_indexes)):\n",
    "    values.append(housing[\"households\"].iloc[null_indexes[i]])\n",
    "\n",
    "print(values)"
   ]
  },
  {
   "cell_type": "code",
   "execution_count": 20,
   "id": "fb3e5b84",
   "metadata": {},
   "outputs": [],
   "source": [
    "# Replacing null values in the total_bedrooms column with the values from household column.\n",
    "index = 0\n",
    "for (i, v) in housing[\"total_bedrooms\"].iteritems():\n",
    "    if pd.isna(v):\n",
    "        housing[\"total_bedrooms\"].iloc[i] = values[index]\n",
    "        index+=1\n"
   ]
  },
  {
   "cell_type": "code",
   "execution_count": 21,
   "id": "36d9b7b4",
   "metadata": {},
   "outputs": [
    {
     "data": {
      "text/plain": [
       "longitude             0\n",
       "latitude              0\n",
       "housing_median_age    0\n",
       "total_rooms           0\n",
       "total_bedrooms        0\n",
       "population            0\n",
       "households            0\n",
       "median_income         0\n",
       "median_house_value    0\n",
       "ocean_proximity       0\n",
       "dtype: int64"
      ]
     },
     "execution_count": 21,
     "metadata": {},
     "output_type": "execute_result"
    }
   ],
   "source": [
    "# Checking if null values still exists\n",
    "housing.isnull().sum()"
   ]
  },
  {
   "cell_type": "markdown",
   "id": "1506b999",
   "metadata": {},
   "source": [
    "# Analyzing categorical values\n",
    "\n",
    "We have only 1 categorical feature in our dataset. To better analyzing it let's visualize our ocean proximity column first. "
   ]
  },
  {
   "cell_type": "code",
   "execution_count": 22,
   "id": "5198a06a",
   "metadata": {},
   "outputs": [
    {
     "data": {
      "image/png": "[encoded data removed]",
      "text/plain": [
       "<Figure size 432x288 with 1 Axes>"
      ]
     },
     "metadata": {},
     "output_type": "display_data"
    }
   ],
   "source": [
    "# Barplot demonstration of the ocean_proximity column\n",
    "%matplotlib inline\n",
    "\n",
    "import seaborn as sns\n",
    "import matplotlib.pyplot as plt\n",
    "\n",
    "distance_count = housing['ocean_proximity'].value_counts()\n",
    "sns.set(style=\"darkgrid\")\n",
    "sns.barplot(distance_count.index, distance_count.values, alpha=0.9)\n",
    "plt.title('Frequency Distribution of Ocean Proximity Column')\n",
    "plt.ylabel('Number of Occurrences', fontsize=12)\n",
    "plt.xlabel('Distance to Ocean', fontsize=12)\n",
    "plt.show()\n"
   ]
  },
  {
   "cell_type": "code",
   "execution_count": 23,
   "id": "2c4cd3e1",
   "metadata": {},
   "outputs": [
    {
     "data": {
      "image/png": "[encoded data removed]",
      "text/plain": [
       "<Figure size 432x288 with 1 Axes>"
      ]
     },
     "metadata": {},
     "output_type": "display_data"
    }
   ],
   "source": [
    "# Pie chart demonstration of the ocean_proximity column\n",
    "labels = housing['ocean_proximity'].astype('category').cat.categories.tolist()\n",
    "counts =  housing['ocean_proximity'].value_counts()\n",
    "sizes = [counts[var_cat] for var_cat in labels]\n",
    "fig1, ax1 = plt.subplots()\n",
    "ax1.pie(sizes, labels=labels, autopct='%1.1f%%', shadow=True) #autopct is show the % on plot\n",
    "ax1.axis('equal')\n",
    "plt.show()"
   ]
  },
  {
   "cell_type": "code",
   "execution_count": 24,
   "id": "a13a7f88",
   "metadata": {},
   "outputs": [
    {
     "name": "stdout",
     "output_type": "stream",
     "text": [
      "<1H OCEAN     9136\n",
      "INLAND        6551\n",
      "NEAR OCEAN    2658\n",
      "NEAR BAY      2290\n",
      "ISLAND           5\n",
      "Name: ocean_proximity, dtype: int64\n"
     ]
    }
   ],
   "source": [
    "# Number of values for each feature in ocean_proximity columns\n",
    "print(housing['ocean_proximity'].value_counts())"
   ]
  },
  {
   "cell_type": "markdown",
   "id": "e792b52d",
   "metadata": {},
   "source": [
    "Since we have only 5 feature in ocean_proximity column and these features are easy to interpret we can replace them with the desired numeric values. In this case, we will score them by their distances to the ocean.<br>\n",
    "Our placement will look like this; \n",
    "- INLAND <  1H TO OCEAN < NEAR_BAY < NEAR_OCEAN < ISLAND"
   ]
  },
  {
   "cell_type": "markdown",
   "id": "38f47369",
   "metadata": {},
   "source": [
    "# Handling categorical values\n",
    "We will create and dictionary which contains features and corresponding values that we hardcoded."
   ]
  },
  {
   "cell_type": "code",
   "execution_count": 25,
   "id": "bc8bff9a",
   "metadata": {},
   "outputs": [],
   "source": [
    "replace_map = {'ocean_proximity': {'<1H OCEAN': 2, 'INLAND': 1, 'NEAR OCEAN': 4, 'NEAR BAY': 3,\n",
    "                                  'ISLAND': 5}}"
   ]
  },
  {
   "cell_type": "code",
   "execution_count": 26,
   "id": "4bad453a",
   "metadata": {
    "scrolled": false
   },
   "outputs": [
    {
     "data": {
      "text/html": [
       "<div>\n",
       "<style scoped>\n",
       "    .dataframe tbody tr th:only-of-type {\n",
       "        vertical-align: middle;\n",
       "    }\n",
       "\n",
       "    .dataframe tbody tr th {\n",
       "        vertical-align: top;\n",
       "    }\n",
       "\n",
       "    .dataframe thead th {\n",
       "        text-align: right;\n",
       "    }\n",
       "</style>\n",
       "<table border=\"1\" class=\"dataframe\">\n",
       "  <thead>\n",
       "    <tr style=\"text-align: right;\">\n",
       "      <th></th>\n",
       "      <th>longitude</th>\n",
       "      <th>latitude</th>\n",
       "      <th>housing_median_age</th>\n",
       "      <th>total_rooms</th>\n",
       "      <th>total_bedrooms</th>\n",
       "      <th>population</th>\n",
       "      <th>households</th>\n",
       "      <th>median_income</th>\n",
       "      <th>median_house_value</th>\n",
       "      <th>ocean_proximity</th>\n",
       "    </tr>\n",
       "  </thead>\n",
       "  <tbody>\n",
       "    <tr>\n",
       "      <th>0</th>\n",
       "      <td>-122.23</td>\n",
       "      <td>37.88</td>\n",
       "      <td>41.0</td>\n",
       "      <td>880.0</td>\n",
       "      <td>129.0</td>\n",
       "      <td>322.0</td>\n",
       "      <td>126.0</td>\n",
       "      <td>8.3252</td>\n",
       "      <td>452600.0</td>\n",
       "      <td>3</td>\n",
       "    </tr>\n",
       "    <tr>\n",
       "      <th>1</th>\n",
       "      <td>-122.22</td>\n",
       "      <td>37.86</td>\n",
       "      <td>21.0</td>\n",
       "      <td>7099.0</td>\n",
       "      <td>1106.0</td>\n",
       "      <td>2401.0</td>\n",
       "      <td>1138.0</td>\n",
       "      <td>8.3014</td>\n",
       "      <td>358500.0</td>\n",
       "      <td>3</td>\n",
       "    </tr>\n",
       "    <tr>\n",
       "      <th>2</th>\n",
       "      <td>-122.24</td>\n",
       "      <td>37.85</td>\n",
       "      <td>52.0</td>\n",
       "      <td>1467.0</td>\n",
       "      <td>190.0</td>\n",
       "      <td>496.0</td>\n",
       "      <td>177.0</td>\n",
       "      <td>7.2574</td>\n",
       "      <td>352100.0</td>\n",
       "      <td>3</td>\n",
       "    </tr>\n",
       "    <tr>\n",
       "      <th>3</th>\n",
       "      <td>-122.25</td>\n",
       "      <td>37.85</td>\n",
       "      <td>52.0</td>\n",
       "      <td>1274.0</td>\n",
       "      <td>235.0</td>\n",
       "      <td>558.0</td>\n",
       "      <td>219.0</td>\n",
       "      <td>5.6431</td>\n",
       "      <td>341300.0</td>\n",
       "      <td>3</td>\n",
       "    </tr>\n",
       "    <tr>\n",
       "      <th>4</th>\n",
       "      <td>-122.25</td>\n",
       "      <td>37.85</td>\n",
       "      <td>52.0</td>\n",
       "      <td>1627.0</td>\n",
       "      <td>280.0</td>\n",
       "      <td>565.0</td>\n",
       "      <td>259.0</td>\n",
       "      <td>3.8462</td>\n",
       "      <td>342200.0</td>\n",
       "      <td>3</td>\n",
       "    </tr>\n",
       "  </tbody>\n",
       "</table>\n",
       "</div>"
      ],
      "text/plain": [
       "   longitude  latitude  housing_median_age  total_rooms  total_bedrooms  \\\n",
       "0    -122.23     37.88                41.0        880.0           129.0   \n",
       "1    -122.22     37.86                21.0       7099.0          1106.0   \n",
       "2    -122.24     37.85                52.0       1467.0           190.0   \n",
       "3    -122.25     37.85                52.0       1274.0           235.0   \n",
       "4    -122.25     37.85                52.0       1627.0           280.0   \n",
       "\n",
       "   population  households  median_income  median_house_value  ocean_proximity  \n",
       "0       322.0       126.0         8.3252            452600.0                3  \n",
       "1      2401.0      1138.0         8.3014            358500.0                3  \n",
       "2       496.0       177.0         7.2574            352100.0                3  \n",
       "3       558.0       219.0         5.6431            341300.0                3  \n",
       "4       565.0       259.0         3.8462            342200.0                3  "
      ]
     },
     "execution_count": 26,
     "metadata": {},
     "output_type": "execute_result"
    }
   ],
   "source": [
    "housing_replace = housing.copy()\n",
    "housing_replace.replace(replace_map, inplace=True)\n",
    "housing_replace.head()"
   ]
  },
  {
   "cell_type": "markdown",
   "id": "dae337be",
   "metadata": {},
   "source": [
    "# Handling Outliers\n",
    " \n",
    "We detect outliers with using Z-score, our criteria is any data point whose Z-score falls out of 3rd standard deviation is an outlier.<br>\n",
    "Steps for calculating outliers with using z-score;\n",
    "- Calculate the Z-score using the formula (x-mean)/std.\n",
    "- Define a threshold value of 3 and mark the datapoints whose absolute value of Z-score is greater than the threshold as outliers.\n",
    "\n",
    "Once we find outliers, we have consider how to deal with them. There are several techniques for replacing outliers, but we will use the median imputation method. The reason we use the median imputation is that the median method is not affected by the presence of outliers like the mean method.<br>\n",
    "\n"
   ]
  },
  {
   "cell_type": "code",
   "execution_count": 27,
   "id": "6166b157",
   "metadata": {
    "scrolled": true
   },
   "outputs": [],
   "source": [
    "def detect_outliers_zscore(data):\n",
    "    outliers = []\n",
    "    thres = 3\n",
    "    mean = np.mean(data)\n",
    "    std = np.std(data)\n",
    "    # print(mean, std)\n",
    "    for i in data:\n",
    "        z_score = (i-mean)/std\n",
    "        if (np.abs(z_score) > thres):\n",
    "            outliers.append(i)\n",
    "    return outliers# Driver code\n"
   ]
  },
  {
   "cell_type": "code",
   "execution_count": 28,
   "id": "c7b76919",
   "metadata": {
    "scrolled": false
   },
   "outputs": [],
   "source": [
    "sample_outliers = []\n",
    "# We got (len - 1) because we don't want to look for outliers in categorical values.\n",
    "for i in range(len(housing_replace.count()) - 1):\n",
    "    sample_outliers.append(detect_outliers_zscore(housing_replace.iloc[:,i]))\n"
   ]
  },
  {
   "cell_type": "code",
   "execution_count": 29,
   "id": "d5aea694",
   "metadata": {},
   "outputs": [],
   "source": [
    "def replace_outliers(data, sample_index):\n",
    "    median = np.median(data)\n",
    "    index = 0\n",
    "    if len(sample_outliers[sample_index]) == 0: # returns if sample has no outlier\n",
    "        return\n",
    "    for (i, v) in data.iteritems():\n",
    "        if sample_outliers[sample_index][index] == v:\n",
    "            data[i] = median\n",
    "            if index < len(sample_outliers[sample_index]) - 1:\n",
    "                index +=1\n",
    "                "
   ]
  },
  {
   "cell_type": "code",
   "execution_count": 30,
   "id": "5a6f291f",
   "metadata": {
    "scrolled": true
   },
   "outputs": [],
   "source": [
    "housing_outliers = housing_replace.copy() # We copy our dataframe and replace outliers on this new dataframe.\n",
    "for i in range(len(sample_outliers)):\n",
    "    replace_outliers(housing_outliers.iloc[:,i], i)"
   ]
  },
  {
   "cell_type": "markdown",
   "id": "545ab535",
   "metadata": {},
   "source": [
    "- We know that the mean of the dataset is affected by outliers, let's check the effect of outliers on our dataset. For this, let's take the average of the columns with and without outliers."
   ]
  },
  {
   "cell_type": "code",
   "execution_count": 31,
   "id": "520cd899",
   "metadata": {},
   "outputs": [
    {
     "data": {
      "text/html": [
       "<div>\n",
       "<style scoped>\n",
       "    .dataframe tbody tr th:only-of-type {\n",
       "        vertical-align: middle;\n",
       "    }\n",
       "\n",
       "    .dataframe tbody tr th {\n",
       "        vertical-align: top;\n",
       "    }\n",
       "\n",
       "    .dataframe thead th {\n",
       "        text-align: right;\n",
       "    }\n",
       "</style>\n",
       "<table border=\"1\" class=\"dataframe\">\n",
       "  <thead>\n",
       "    <tr style=\"text-align: right;\">\n",
       "      <th></th>\n",
       "      <th>Mean with outliers</th>\n",
       "      <th>Mean without outliers</th>\n",
       "    </tr>\n",
       "  </thead>\n",
       "  <tbody>\n",
       "    <tr>\n",
       "      <th>longitude</th>\n",
       "      <td>-119.569704</td>\n",
       "      <td>-119.569704</td>\n",
       "    </tr>\n",
       "    <tr>\n",
       "      <th>latitude</th>\n",
       "      <td>35.631861</td>\n",
       "      <td>35.631861</td>\n",
       "    </tr>\n",
       "    <tr>\n",
       "      <th>housing_median_age</th>\n",
       "      <td>28.639486</td>\n",
       "      <td>28.639486</td>\n",
       "    </tr>\n",
       "    <tr>\n",
       "      <th>total_rooms</th>\n",
       "      <td>2635.763081</td>\n",
       "      <td>2432.444380</td>\n",
       "    </tr>\n",
       "    <tr>\n",
       "      <th>total_bedrooms</th>\n",
       "      <td>537.591279</td>\n",
       "      <td>499.616231</td>\n",
       "    </tr>\n",
       "    <tr>\n",
       "      <th>population</th>\n",
       "      <td>1425.476744</td>\n",
       "      <td>1330.515068</td>\n",
       "    </tr>\n",
       "    <tr>\n",
       "      <th>households</th>\n",
       "      <td>499.539680</td>\n",
       "      <td>465.958285</td>\n",
       "    </tr>\n",
       "    <tr>\n",
       "      <th>median_income</th>\n",
       "      <td>3.870671</td>\n",
       "      <td>3.735332</td>\n",
       "    </tr>\n",
       "    <tr>\n",
       "      <th>median_house_value</th>\n",
       "      <td>206855.816909</td>\n",
       "      <td>206855.816909</td>\n",
       "    </tr>\n",
       "    <tr>\n",
       "      <th>ocean_proximity</th>\n",
       "      <td>2.051841</td>\n",
       "      <td>2.051841</td>\n",
       "    </tr>\n",
       "  </tbody>\n",
       "</table>\n",
       "</div>"
      ],
      "text/plain": [
       "                    Mean with outliers  Mean without outliers\n",
       "longitude                  -119.569704            -119.569704\n",
       "latitude                     35.631861              35.631861\n",
       "housing_median_age           28.639486              28.639486\n",
       "total_rooms                2635.763081            2432.444380\n",
       "total_bedrooms              537.591279             499.616231\n",
       "population                 1425.476744            1330.515068\n",
       "households                  499.539680             465.958285\n",
       "median_income                 3.870671               3.735332\n",
       "median_house_value       206855.816909          206855.816909\n",
       "ocean_proximity               2.051841               2.051841"
      ]
     },
     "execution_count": 31,
     "metadata": {},
     "output_type": "execute_result"
    }
   ],
   "source": [
    "# Mean of columns with and without outliers\n",
    "df = pd.DataFrame(housing_replace.mean() , columns=['Mean with outliers'])\n",
    "df['Mean without outliers'] = housing_outliers.mean()\n",
    "\n",
    "df"
   ]
  },
  {
   "cell_type": "markdown",
   "id": "9989521b",
   "metadata": {},
   "source": [
    "- We know that the median of the dataset is not affected much by outliers, let's check the effect of outliers on our dataset. For this, let's take the median of the columns with and without outliers."
   ]
  },
  {
   "cell_type": "code",
   "execution_count": 32,
   "id": "6d74c3a7",
   "metadata": {
    "scrolled": true
   },
   "outputs": [
    {
     "data": {
      "text/html": [
       "<div>\n",
       "<style scoped>\n",
       "    .dataframe tbody tr th:only-of-type {\n",
       "        vertical-align: middle;\n",
       "    }\n",
       "\n",
       "    .dataframe tbody tr th {\n",
       "        vertical-align: top;\n",
       "    }\n",
       "\n",
       "    .dataframe thead th {\n",
       "        text-align: right;\n",
       "    }\n",
       "</style>\n",
       "<table border=\"1\" class=\"dataframe\">\n",
       "  <thead>\n",
       "    <tr style=\"text-align: right;\">\n",
       "      <th></th>\n",
       "      <th>Median with outliers</th>\n",
       "      <th>Median without outliers</th>\n",
       "    </tr>\n",
       "  </thead>\n",
       "  <tbody>\n",
       "    <tr>\n",
       "      <th>longitude</th>\n",
       "      <td>-118.4900</td>\n",
       "      <td>-118.49000</td>\n",
       "    </tr>\n",
       "    <tr>\n",
       "      <th>latitude</th>\n",
       "      <td>34.2600</td>\n",
       "      <td>34.26000</td>\n",
       "    </tr>\n",
       "    <tr>\n",
       "      <th>housing_median_age</th>\n",
       "      <td>29.0000</td>\n",
       "      <td>29.00000</td>\n",
       "    </tr>\n",
       "    <tr>\n",
       "      <th>total_rooms</th>\n",
       "      <td>2127.0000</td>\n",
       "      <td>2127.00000</td>\n",
       "    </tr>\n",
       "    <tr>\n",
       "      <th>total_bedrooms</th>\n",
       "      <td>435.0000</td>\n",
       "      <td>435.00000</td>\n",
       "    </tr>\n",
       "    <tr>\n",
       "      <th>population</th>\n",
       "      <td>1166.0000</td>\n",
       "      <td>1166.00000</td>\n",
       "    </tr>\n",
       "    <tr>\n",
       "      <th>households</th>\n",
       "      <td>409.0000</td>\n",
       "      <td>409.00000</td>\n",
       "    </tr>\n",
       "    <tr>\n",
       "      <th>median_income</th>\n",
       "      <td>3.5348</td>\n",
       "      <td>3.53475</td>\n",
       "    </tr>\n",
       "    <tr>\n",
       "      <th>median_house_value</th>\n",
       "      <td>179700.0000</td>\n",
       "      <td>179700.00000</td>\n",
       "    </tr>\n",
       "    <tr>\n",
       "      <th>ocean_proximity</th>\n",
       "      <td>2.0000</td>\n",
       "      <td>2.00000</td>\n",
       "    </tr>\n",
       "  </tbody>\n",
       "</table>\n",
       "</div>"
      ],
      "text/plain": [
       "                    Median with outliers  Median without outliers\n",
       "longitude                      -118.4900               -118.49000\n",
       "latitude                         34.2600                 34.26000\n",
       "housing_median_age               29.0000                 29.00000\n",
       "total_rooms                    2127.0000               2127.00000\n",
       "total_bedrooms                  435.0000                435.00000\n",
       "population                     1166.0000               1166.00000\n",
       "households                      409.0000                409.00000\n",
       "median_income                     3.5348                  3.53475\n",
       "median_house_value           179700.0000             179700.00000\n",
       "ocean_proximity                   2.0000                  2.00000"
      ]
     },
     "execution_count": 32,
     "metadata": {},
     "output_type": "execute_result"
    }
   ],
   "source": [
    "# Median of columns with and without outliers\n",
    "df = pd.DataFrame(housing_replace.median() , columns=['Median with outliers'])\n",
    "df['Median without outliers'] = housing_outliers.median()\n",
    "df"
   ]
  },
  {
   "cell_type": "markdown",
   "id": "7b24924b",
   "metadata": {},
   "source": [
    "We could also detect outliers with using Interquartile range (IQR).<br>\n",
    "Steps for applying IQR;\n",
    "- Sort the data\n",
    "- Calculate Q1 and Q3 \n",
    "- Find IQR (Q3 - Q1)\n",
    "- Find the lower fence (Q1 - 1.5 * IQR)\n",
    "- Find the upper fence (Q3 + 1.5 * IQR)\n"
   ]
  },
  {
   "cell_type": "code",
   "execution_count": 33,
   "id": "82d797dd",
   "metadata": {},
   "outputs": [
    {
     "data": {
      "text/plain": [
       "<AxesSubplot:xlabel='median_house_value'>"
      ]
     },
     "execution_count": 33,
     "metadata": {},
     "output_type": "execute_result"
    },
    {
     "data": {
      "image/png": "[encoded data removed]",
      "text/plain": [
       "<Figure size 432x288 with 1 Axes>"
      ]
     },
     "metadata": {},
     "output_type": "display_data"
    }
   ],
   "source": [
    "def detect_outliers_iqr(dataset):\n",
    "    \n",
    "    outliers = []\n",
    "    dataset = sorted(dataset)\n",
    "    q1,q3 = np.percentile(dataset, [25,75])\n",
    "    iqr = q3 - q1\n",
    "    lower_fence = q1 - (1.5 * iqr)\n",
    "    upper_fence = q3 + (1.5 * iqr)\n",
    "    \n",
    "    for elem in dataset:\n",
    "        if elem < lower_fence or elem > upper_fence:\n",
    "            outliers.append(elem)\n",
    "    return outliers\n",
    "\n",
    "# We can use box plots for visulazition of outliers\n",
    "import seaborn as sns\n",
    "\n",
    "sns.boxplot(housing['median_house_value'])"
   ]
  },
  {
   "cell_type": "markdown",
   "id": "3154d937",
   "metadata": {},
   "source": [
    "# Selecting Model\n",
    "\n",
    "In order to choose the right model, we must ask ourselves what is our purpose. Determining the problem and forming strategies accordingly are very important for choosing the right model. In our problem we are asked to estimate house prices in California. We can see that this is a Regression problem because our task is to approximate a continuous output variable from input variables (X) to a matching function (f).<br>\n",
    "OK, we have identified the problem, so what do we do next? Since we define the problem we could search for different algorithms for our purpose. We will use Random Forest Reggression model in this project because results from researchs show that random forest reggession model gives the best results so far.<br><br>\n",
    "\n",
    "We will use sci-kit random forest reggressor as our model. I preffered not divide dataset into train, validation and test. Reason is, since we use random forest as our model using validation set is not mandatory. Also our dataset is small so, fine tuning hyper parameter in training set will not be big problem.\n",
    "\n",
    "\n",
    "Steps for appliying sci-kit random forest reggressor;\n",
    "- Rearrenge columns in the dataset for divide into attributes and label sets.\n",
    "- Split dataset as test and train\n",
    "- Scale the dataset (It is optional since we use random forest)\n",
    "- Train model\n",
    "- Calculate train and test score of the model\n",
    "- Fine tune hyperparameters for acquiring better accuracy"
   ]
  },
  {
   "cell_type": "code",
   "execution_count": 34,
   "id": "8d83a04f",
   "metadata": {},
   "outputs": [
    {
     "data": {
      "text/html": [
       "<div>\n",
       "<style scoped>\n",
       "    .dataframe tbody tr th:only-of-type {\n",
       "        vertical-align: middle;\n",
       "    }\n",
       "\n",
       "    .dataframe tbody tr th {\n",
       "        vertical-align: top;\n",
       "    }\n",
       "\n",
       "    .dataframe thead th {\n",
       "        text-align: right;\n",
       "    }\n",
       "</style>\n",
       "<table border=\"1\" class=\"dataframe\">\n",
       "  <thead>\n",
       "    <tr style=\"text-align: right;\">\n",
       "      <th></th>\n",
       "      <th>longitude</th>\n",
       "      <th>latitude</th>\n",
       "      <th>housing_median_age</th>\n",
       "      <th>total_rooms</th>\n",
       "      <th>total_bedrooms</th>\n",
       "      <th>population</th>\n",
       "      <th>households</th>\n",
       "      <th>median_income</th>\n",
       "      <th>ocean_proximity</th>\n",
       "      <th>median_house_value</th>\n",
       "    </tr>\n",
       "  </thead>\n",
       "  <tbody>\n",
       "    <tr>\n",
       "      <th>0</th>\n",
       "      <td>-122.23</td>\n",
       "      <td>37.88</td>\n",
       "      <td>41.0</td>\n",
       "      <td>880.0</td>\n",
       "      <td>129.0</td>\n",
       "      <td>322.0</td>\n",
       "      <td>126.0</td>\n",
       "      <td>8.3252</td>\n",
       "      <td>3</td>\n",
       "      <td>452600.0</td>\n",
       "    </tr>\n",
       "    <tr>\n",
       "      <th>1</th>\n",
       "      <td>-122.22</td>\n",
       "      <td>37.86</td>\n",
       "      <td>21.0</td>\n",
       "      <td>7099.0</td>\n",
       "      <td>1106.0</td>\n",
       "      <td>2401.0</td>\n",
       "      <td>1138.0</td>\n",
       "      <td>8.3014</td>\n",
       "      <td>3</td>\n",
       "      <td>358500.0</td>\n",
       "    </tr>\n",
       "    <tr>\n",
       "      <th>2</th>\n",
       "      <td>-122.24</td>\n",
       "      <td>37.85</td>\n",
       "      <td>52.0</td>\n",
       "      <td>1467.0</td>\n",
       "      <td>190.0</td>\n",
       "      <td>496.0</td>\n",
       "      <td>177.0</td>\n",
       "      <td>7.2574</td>\n",
       "      <td>3</td>\n",
       "      <td>352100.0</td>\n",
       "    </tr>\n",
       "    <tr>\n",
       "      <th>3</th>\n",
       "      <td>-122.25</td>\n",
       "      <td>37.85</td>\n",
       "      <td>52.0</td>\n",
       "      <td>1274.0</td>\n",
       "      <td>235.0</td>\n",
       "      <td>558.0</td>\n",
       "      <td>219.0</td>\n",
       "      <td>5.6431</td>\n",
       "      <td>3</td>\n",
       "      <td>341300.0</td>\n",
       "    </tr>\n",
       "    <tr>\n",
       "      <th>4</th>\n",
       "      <td>-122.25</td>\n",
       "      <td>37.85</td>\n",
       "      <td>52.0</td>\n",
       "      <td>1627.0</td>\n",
       "      <td>280.0</td>\n",
       "      <td>565.0</td>\n",
       "      <td>259.0</td>\n",
       "      <td>3.8462</td>\n",
       "      <td>3</td>\n",
       "      <td>342200.0</td>\n",
       "    </tr>\n",
       "  </tbody>\n",
       "</table>\n",
       "</div>"
      ],
      "text/plain": [
       "   longitude  latitude  housing_median_age  total_rooms  total_bedrooms  \\\n",
       "0    -122.23     37.88                41.0        880.0           129.0   \n",
       "1    -122.22     37.86                21.0       7099.0          1106.0   \n",
       "2    -122.24     37.85                52.0       1467.0           190.0   \n",
       "3    -122.25     37.85                52.0       1274.0           235.0   \n",
       "4    -122.25     37.85                52.0       1627.0           280.0   \n",
       "\n",
       "   population  households  median_income  ocean_proximity  median_house_value  \n",
       "0       322.0       126.0         8.3252                3            452600.0  \n",
       "1      2401.0      1138.0         8.3014                3            358500.0  \n",
       "2       496.0       177.0         7.2574                3            352100.0  \n",
       "3       558.0       219.0         5.6431                3            341300.0  \n",
       "4       565.0       259.0         3.8462                3            342200.0  "
      ]
     },
     "execution_count": 34,
     "metadata": {},
     "output_type": "execute_result"
    }
   ],
   "source": [
    "# Rearranging the order of data in dataset\n",
    "cols = ['longitude', 'latitude', 'housing_median_age','total_rooms', 'total_bedrooms', \n",
    "        'population', 'households', 'median_income', 'ocean_proximity', 'median_house_value' ]\n",
    "\n",
    "dataset = housing_outliers.copy()\n",
    "dataset = dataset[cols]\n",
    "\n",
    "dataset.head()\n"
   ]
  },
  {
   "cell_type": "code",
   "execution_count": 35,
   "id": "6998697d",
   "metadata": {},
   "outputs": [],
   "source": [
    "# Dividing dataset into attributes and label sets\n",
    "X = dataset.iloc[:, 0:9].values\n",
    "y = dataset.iloc[:, 9].values\n"
   ]
  },
  {
   "cell_type": "code",
   "execution_count": 36,
   "id": "bca2373c",
   "metadata": {},
   "outputs": [],
   "source": [
    "from sklearn.model_selection import train_test_split\n",
    "\n",
    "\n",
    "# Split dataset as test and train\n",
    "X_train, X_test, y_train, y_test = train_test_split(X, y, test_size=0.2, random_state=1)\n"
   ]
  },
  {
   "cell_type": "code",
   "execution_count": 37,
   "id": "a130c84d",
   "metadata": {},
   "outputs": [],
   "source": [
    "from sklearn.preprocessing import StandardScaler\n",
    "\n",
    "# In our dataset each column has different scale of representation, this may cause problem in some algorithms \n",
    "# For preventing that we scale our dataset\n",
    "\n",
    "sc = StandardScaler()\n",
    "X_train = sc.fit_transform(X_train)\n",
    "X_test = sc.transform(X_test)"
   ]
  },
  {
   "cell_type": "code",
   "execution_count": 38,
   "id": "24547a4d",
   "metadata": {},
   "outputs": [
    {
     "name": "stdout",
     "output_type": "stream",
     "text": [
      "Run time : 5.712958097457886\n"
     ]
    }
   ],
   "source": [
    "import time\n",
    "from sklearn.ensemble import RandomForestRegressor\n",
    "\n",
    "time_start = time.time()\n",
    "\n",
    "# Training model\n",
    "regressor = RandomForestRegressor(n_estimators=100, max_features = 0.5)\n",
    "regressor.fit(X_train, y_train)\n",
    "y_pred = regressor.predict(X_test)\n",
    "\n",
    "time_end = time.time() # Estimating running time of the model\n",
    "print(f'Run time : {time_end - time_start}')"
   ]
  },
  {
   "cell_type": "code",
   "execution_count": 39,
   "id": "8432a700",
   "metadata": {},
   "outputs": [
    {
     "name": "stdout",
     "output_type": "stream",
     "text": [
      "Training score:  0.9748654393230793\n",
      "Testing score:   0.8247918940609495\n",
      "Root Mean Squared Error: 47939.427226246225\n"
     ]
    }
   ],
   "source": [
    "from sklearn import metrics\n",
    "\n",
    "print('Training score: ', regressor.score(X_train, y_train))\n",
    "print('Testing score:  ', regressor.score(X_test, y_test))\n",
    "print('Root Mean Squared Error:', np.sqrt(metrics.mean_squared_error(y_test, y_pred)))"
   ]
  }
 ],
 "metadata": {
  "kernelspec": {
   "display_name": "base",
   "language": "python",
   "name": "python3"
  },
  "language_info": {
   "codemirror_mode": {
    "name": "ipython",
    "version": 3
   },
   "file_extension": ".py",
   "mimetype": "text/x-python",
   "name": "python",
   "nbconvert_exporter": "python",
   "pygments_lexer": "ipython3",
   "version": "3.8.8"
  }
 },
 "nbformat": 4,
 "nbformat_minor": 5
}
